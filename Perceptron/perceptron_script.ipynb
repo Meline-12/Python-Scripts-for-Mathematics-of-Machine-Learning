{
 "cells": [
  {
   "cell_type": "markdown",
   "id": "6b7f8242",
   "metadata": {},
   "source": [
    "# Mathematics of Machine Learning"
   ]
  },
  {
   "cell_type": "markdown",
   "id": "1ea0f441",
   "metadata": {},
   "source": [
    "## Programming tasks: Example of the perceptron algorithm"
   ]
  },
  {
   "cell_type": "markdown",
   "id": "2173cffe",
   "metadata": {},
   "source": [
    "Import required modules"
   ]
  },
  {
   "cell_type": "code",
   "execution_count": 1,
   "id": "7e482642",
   "metadata": {},
   "outputs": [],
   "source": [
    "import numpy as np\n",
    "import matplotlib.pyplot as plt"
   ]
  },
  {
   "cell_type": "code",
   "execution_count": 2,
   "id": "9624dea4",
   "metadata": {},
   "outputs": [],
   "source": [
    "from my_perceptron import my_perceptron"
   ]
  },
  {
   "cell_type": "markdown",
   "id": "f388f1d8",
   "metadata": {},
   "source": [
    "Generate the training data"
   ]
  },
  {
   "cell_type": "code",
   "execution_count": 3,
   "id": "03ce82b0",
   "metadata": {},
   "outputs": [
    {
     "name": "stdout",
     "output_type": "stream",
     "text": [
      "[[-0.59689425 -1.25398732  0.39228459  0.61731661 -0.3093391   1.64201666\n",
      "   0.59230252 -1.21538179  2.17658837  2.60429657 -2.11065428  1.03488814\n",
      "   2.65744981  0.13410507  1.64072398  0.23736199 -1.37698613  1.06547188\n",
      "  -2.78977096  0.90506527  1.66903183  2.91958385 -0.79131692 -2.60618784\n",
      "  -0.49346711]\n",
      " [-0.85352443 -2.51654374 -2.19993026 -0.59391756  2.49870598 -2.18721665\n",
      "   1.69669301 -0.10703493  2.9059195  -2.11264391 -0.46322804  2.12837084\n",
      "  -1.76751201 -1.8376115   1.41150452 -2.15225739  0.97186163 -1.84115088\n",
      "   1.41367946  0.30155039 -0.39795255  0.67912496 -2.75475364  1.6448476\n",
      "  -1.80776664]]\n"
     ]
    }
   ],
   "source": [
    "# Size of the dataset\n",
    "m = 25\n",
    "x = np.random.uniform(low=-3, high=3, size=(2, m))\n",
    "print(x)"
   ]
  },
  {
   "cell_type": "markdown",
   "id": "3138e191",
   "metadata": {},
   "source": [
    "true hyperplane"
   ]
  },
  {
   "cell_type": "code",
   "execution_count": 4,
   "id": "ee1929b1",
   "metadata": {},
   "outputs": [
    {
     "name": "stdout",
     "output_type": "stream",
     "text": [
      "[[1]\n",
      " [2]]\n"
     ]
    }
   ],
   "source": [
    "# true separating hyperplane\n",
    "w_true = np.array([[1], [2]])\n",
    "print(w_true)"
   ]
  },
  {
   "cell_type": "code",
   "execution_count": 5,
   "id": "a4baf491",
   "metadata": {},
   "outputs": [
    {
     "name": "stdout",
     "output_type": "stream",
     "text": [
      "[[-1. -1. -1. -1.  1. -1.  1. -1.  1. -1. -1.  1. -1. -1.  1. -1.  1. -1.\n",
      "   1.  1.  1.  1. -1.  1. -1.]]\n"
     ]
    }
   ],
   "source": [
    "# The sign function returns -1 if x < 0, 0 if x==0, 1 if x > 0. nan is returned for nan inputs.\n",
    "y = np.sign(np.dot(w_true.T, x)) + (np.dot(w_true.T, x) == 0)\n",
    "print(y)"
   ]
  },
  {
   "cell_type": "markdown",
   "id": "bfdafc98",
   "metadata": {},
   "source": [
    "Graphical visualization of the training data"
   ]
  },
  {
   "cell_type": "markdown",
   "id": "f9be9d9a",
   "metadata": {},
   "source": [
    "First plot the true hyperplane for x in [-3,3]."
   ]
  },
  {
   "cell_type": "markdown",
   "id": "60b9743d",
   "metadata": {},
   "source": [
    "Then enter the classified points"
   ]
  },
  {
   "cell_type": "code",
   "execution_count": 6,
   "id": "3088fe8d",
   "metadata": {},
   "outputs": [
    {
     "name": "stdout",
     "output_type": "stream",
     "text": [
      "[4, 6, 8, 11, 14, 16, 18, 19, 20, 21, 23]\n",
      "[-0.3093391   0.59230252  2.17658837  1.03488814  1.64072398 -1.37698613\n",
      " -2.78977096  0.90506527  1.66903183  2.91958385 -2.60618784]\n",
      "[ 2.49870598  1.69669301  2.9059195   2.12837084  1.41150452  0.97186163\n",
      "  1.41367946  0.30155039 -0.39795255  0.67912496  1.6448476 ]\n"
     ]
    }
   ],
   "source": [
    "# Points with mark 1\n",
    "inds = [i for (i, val) in enumerate(y[0]) if val == 1]\n",
    "# ax.scatter(x[0][inds], x[1][inds], c=\"b\", marker=\"+\", linewidths = 2)\n",
    "print(inds)\n",
    "print(x[0][inds])\n",
    "print(x[1][inds])"
   ]
  },
  {
   "cell_type": "code",
   "execution_count": 7,
   "id": "df745718",
   "metadata": {},
   "outputs": [
    {
     "name": "stdout",
     "output_type": "stream",
     "text": [
      "[0, 1, 2, 3, 5, 7, 9, 10, 12, 13, 15, 17, 22, 24]\n"
     ]
    }
   ],
   "source": [
    "# Points with mark -1\n",
    "indm = [i for (i, val) in enumerate(y[0]) if val == -1]\n",
    "# ax.scatter(x[0][indm], x[1][indm], c=\"r\", marker=\"d\", linewidths = 2)\n",
    "print(indm)"
   ]
  },
  {
   "cell_type": "code",
   "execution_count": 8,
   "id": "743218a9",
   "metadata": {},
   "outputs": [
    {
     "data": {
      "image/png": "[encoded data removed]",
      "text/plain": [
       "<Figure size 432x288 with 1 Axes>"
      ]
     },
     "metadata": {
      "needs_background": "light"
     },
     "output_type": "display_data"
    }
   ],
   "source": [
    "# First plot the true hyperplane for x in [-3,3].\n",
    "fig, ax = plt.subplots()\n",
    "ax.plot([-3,3], -w_true[0]/w_true[1]*[-3,3], \"--\", label=\"true hyperplane\")\n",
    "ax.scatter(x[0][inds], x[1][inds], c=\"b\", marker=\"+\", linewidths = 2)\n",
    "ax.scatter(x[0][indm], x[1][indm], c=\"r\", marker=\"d\", linewidths = 2)\n",
    "plt.legend()\n",
    "plt.xlabel(\"x1\")\n",
    "plt.ylabel(\"x2\")\n",
    "ax.set(xlim=(-3, 3), ylim=(-3, 3))\n",
    "ax.axis('equal')\n",
    "fig.tight_layout()"
   ]
  },
  {
   "cell_type": "markdown",
   "id": "e9cfcc28",
   "metadata": {},
   "source": [
    "Perceptron algorithm"
   ]
  },
  {
   "cell_type": "code",
   "execution_count": 9,
   "id": "61e7c8a7",
   "metadata": {},
   "outputs": [
    {
     "name": "stdout",
     "output_type": "stream",
     "text": [
      "5\n"
     ]
    }
   ],
   "source": [
    "# Apply the algorithm to the data with b = 0\n",
    "[w, T, ws, RSs] = my_perceptron(x, y, 0, 10000)\n",
    "print(T)"
   ]
  },
  {
   "cell_type": "code",
   "execution_count": 10,
   "id": "814f02b2",
   "metadata": {},
   "outputs": [
    {
     "data": {
      "image/png": "[encoded data removed]",
      "text/plain": [
       "<Figure size 432x288 with 1 Axes>"
      ]
     },
     "metadata": {
      "needs_background": "light"
     },
     "output_type": "display_data"
    }
   ],
   "source": [
    "fig, ax = plt.subplots()\n",
    "ax.plot([-3,3], -w_true[0]/w_true[1]*[-3,3], \"--\", label=\"true hyperplane\")\n",
    "ax.scatter(x[0][inds], x[1][inds], c=\"b\", marker=\"+\", linewidths = 2)\n",
    "ax.scatter(x[0][indm], x[1][indm], c=\"r\", marker=\"d\", linewidths = 2)\n",
    "ax.plot([-3,3], -w[0]/w[1]*[-3,3], \"g\", label=\"learned hypothesis\")\n",
    "plt.legend()\n",
    "plt.xlabel(\"x1\")\n",
    "plt.ylabel(\"x2\")\n",
    "ax.set(xlim=(-3, 3), ylim=(-3, 3))\n",
    "ax.axis('equal')\n",
    "fig.tight_layout()\n",
    "plt.show()"
   ]
  },
  {
   "cell_type": "code",
   "execution_count": null,
   "id": "bb9b292c",
   "metadata": {},
   "outputs": [],
   "source": []
  },
  {
   "cell_type": "code",
   "execution_count": null,
   "id": "722eb264",
   "metadata": {},
   "outputs": [],
   "source": []
  }
 ],
 "metadata": {
  "kernelspec": {
   "display_name": "Python 3 (ipykernel)",
   "language": "python",
   "name": "python3"
  },
  "language_info": {
   "codemirror_mode": {
    "name": "ipython",
    "version": 3
   },
   "file_extension": ".py",
   "mimetype": "text/x-python",
   "name": "python",
   "nbconvert_exporter": "python",
   "pygments_lexer": "ipython3",
   "version": "3.10.5"
  }
 },
 "nbformat": 4,
 "nbformat_minor": 5
}
