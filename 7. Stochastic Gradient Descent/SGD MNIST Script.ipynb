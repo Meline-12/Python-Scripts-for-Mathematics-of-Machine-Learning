{
 "cells": [
  {
   "cell_type": "markdown",
   "id": "3da06ada",
   "metadata": {},
   "source": [
    "## Mathematics of Machine Learning"
   ]
  },
  {
   "cell_type": "markdown",
   "id": "56f7038c",
   "metadata": {},
   "source": [
    "### 8th Exercise: Stochastic Gradient Descent"
   ]
  },
  {
   "cell_type": "code",
   "execution_count": null,
   "id": "74f3c721",
   "metadata": {},
   "outputs": [],
   "source": [
    "import random\n",
    "import numpy as np\n",
    "import matplotlib.pyplot as plt"
   ]
  },
  {
   "cell_type": "markdown",
   "id": "67d1499d",
   "metadata": {},
   "source": [
    "#### (0) Preparation"
   ]
  },
  {
   "cell_type": "code",
   "execution_count": null,
   "id": "cbd80336",
   "metadata": {},
   "outputs": [],
   "source": [
    "# Load data\n",
    "X = np.genfromtxt(\"data_MNIST_78_X.csv\", delimiter=',')\n",
    "Y = np.genfromtxt(\"data_MNIST_78_Y.csv\", delimiter=',')"
   ]
  },
  {
   "cell_type": "code",
   "execution_count": null,
   "id": "5a6c16ec",
   "metadata": {},
   "outputs": [],
   "source": [
    "# Transfom the labels in +1 (7) and -1 (8)\n",
    "# y = (y == 7) - (y == 8)\n",
    "for ind, val in enumerate(Y):\n",
    "    if val == 7:\n",
    "        Y[ind] = +1\n",
    "    else:\n",
    "        Y[ind] = -1"
   ]
  },
  {
   "cell_type": "code",
   "execution_count": null,
   "id": "eac9dc97",
   "metadata": {},
   "outputs": [],
   "source": [
    "print(X.shape)\n",
    "print(Y)\n",
    "print(Y.shape)"
   ]
  },
  {
   "cell_type": "code",
   "execution_count": null,
   "id": "42452c2b",
   "metadata": {},
   "outputs": [],
   "source": [
    "# Size of the dataset\n",
    "m = len(Y)\n",
    "print(m)"
   ]
  },
  {
   "cell_type": "code",
   "execution_count": null,
   "id": "68eaa643",
   "metadata": {},
   "outputs": [],
   "source": [
    "# Number of features (= dimension of the feature space)\n",
    "d = X.shape[0]\n",
    "print(d)"
   ]
  },
  {
   "cell_type": "markdown",
   "id": "5b35dac6",
   "metadata": {},
   "source": [
    "#### (1) Gradient Descent for Log-Loss"
   ]
  },
  {
   "cell_type": "code",
   "execution_count": null,
   "id": "d7f3cae4",
   "metadata": {},
   "outputs": [],
   "source": [
    "# Auxiliary quantities for faster calculation of y*(w*x+b):\n",
    "X1 = np.r_[X, np.ones((1, m))]\n",
    "X1Y = np.tile(Y, (X1.shape[0], 1)) * X1\n",
    "\n",
    "def exp_XY(w): return np.exp(-np.dot(w.T, X1Y)).T\n"
   ]
  },
  {
   "cell_type": "code",
   "execution_count": null,
   "id": "4489ee6f",
   "metadata": {},
   "outputs": [],
   "source": [
    "# Empirical log-Risk as a function of e = exp(- y*(w*x+b))\n",
    "def RS(e): return np.mean(np.log(1 + e), axis=0)"
   ]
  },
  {
   "cell_type": "code",
   "execution_count": null,
   "id": "8e84fd8a",
   "metadata": {},
   "outputs": [],
   "source": [
    "# Gradient of the empirical log-Risk again as a function of e = exp(- y*(w*x+b))\n",
    "def Grad_RS(e): return - np.divide((np.dot(X1, ((Y * e)/(1 + e)))), m)\n",
    "# Grad_RS = @(e) - (X1 * ( (Y .* e)./(1+e) ) )/m;"
   ]
  },
  {
   "cell_type": "code",
   "execution_count": null,
   "id": "9063d1b1",
   "metadata": {},
   "outputs": [],
   "source": [
    "# Estimate Lipschitz constant of the gradient according to lecture\n",
    "L = 1/4 * np.mean(np.sum(X * X, axis = 0))\n",
    "print(L)"
   ]
  },
  {
   "cell_type": "code",
   "execution_count": null,
   "id": "5ff7f004",
   "metadata": {},
   "outputs": [],
   "source": [
    "# Maximum allowed step size according to lecture\n",
    "eta = 1/L\n",
    "print(eta)"
   ]
  },
  {
   "cell_type": "code",
   "execution_count": null,
   "id": "d2ce0084",
   "metadata": {},
   "outputs": [],
   "source": [
    "# Gradient Descent\n",
    "\n",
    "n_iter = 10 # Step count\n",
    "# n_iter = m\n",
    "\n",
    "# Matrix of iterates\n",
    "ws = np.zeros((d+1, n_iter+1)) \n",
    "\n",
    "# Start point w_0\n",
    "ws[:, 0] = np.append(np.zeros((d, 1)), np.array([1])) "
   ]
  },
  {
   "cell_type": "code",
   "execution_count": null,
   "id": "f2267a7c",
   "metadata": {},
   "outputs": [],
   "source": [
    "for i in range(n_iter):\n",
    "    # Calculation of exp(- y*(w*x+b))\n",
    "    e = exp_XY(ws[:, i])\n",
    "    # Gradient step\n",
    "    ws[:, i+1] = ws[:, i] - eta * Grad_RS(e)"
   ]
  },
  {
   "cell_type": "code",
   "execution_count": null,
   "id": "b1994605",
   "metadata": {},
   "outputs": [],
   "source": [
    "# Calculation of empirical risks for all iterates\n",
    "Fs = RS(exp_XY(ws))\n",
    "print(Fs)"
   ]
  },
  {
   "cell_type": "code",
   "execution_count": null,
   "id": "af1abd62",
   "metadata": {},
   "outputs": [],
   "source": [
    "# Plot the function\n",
    "fig, ax = plt.subplots(figsize=(7, 5))\n",
    "\n",
    "plt.semilogx(Fs)\n",
    "\n",
    "plt.xlabel('Step k', fontsize=16)\n",
    "plt.ylabel('$ F(w_{k}) = R_S(w_k) $', fontsize=16)\n",
    "\n",
    "plt.show()"
   ]
  },
  {
   "cell_type": "markdown",
   "id": "b3ea1a9c",
   "metadata": {},
   "source": [
    "#### (2) Stochastic Gradient Descent"
   ]
  },
  {
   "cell_type": "code",
   "execution_count": null,
   "id": "27341fd6",
   "metadata": {},
   "outputs": [],
   "source": [
    "# Number of steps and step sizes\n",
    "n_iter_SGD = m\n",
    "def eta_k(k): return 0.5/(1+k)\n",
    "\n",
    "# Matrix of iterates\n",
    "ws_SGD = np.zeros((d+1, n_iter_SGD+1))\n",
    "\n",
    "#Start point w_0\n",
    "ws_SGD[:, 0] = np.append(np.zeros((d, 1)), np.array([1])) "
   ]
  },
  {
   "cell_type": "code",
   "execution_count": null,
   "id": "09aef71f",
   "metadata": {},
   "outputs": [],
   "source": [
    "for i in range(n_iter_SGD):\n",
    "    ind = np.random.choice(m) # selecting random data point\n",
    "    x = X1[:, ind] # corresponding feature x\n",
    "    y = Y[ind] # corresponding label y\n",
    "    e = np.exp(-np.dot(y, np.dot(ws_SGD[:, i].T, x))) # Calculation of exp(- y*(w*x+b))\n",
    "    v = - np.dot((y*e/(1+e)), x) # Direction of the gradient for data point (x,y)\n",
    "    \n",
    "    # Gradient step\n",
    "    ws_SGD[:, i+1] = ws_SGD[:, i] - eta_k(i) * v\n",
    "    "
   ]
  },
  {
   "cell_type": "code",
   "execution_count": null,
   "id": "0e85d8b5",
   "metadata": {},
   "outputs": [],
   "source": [
    "# Calculation of empirical risks for all iterates\n",
    "Fs_SGD = RS(exp_XY(ws_SGD))\n",
    "print(Fs_SGD)"
   ]
  },
  {
   "cell_type": "code",
   "execution_count": null,
   "id": "ba7267e2",
   "metadata": {},
   "outputs": [],
   "source": [
    "# Plot the function\n",
    "fig, ax = plt.subplots(figsize=(7, 5))\n",
    "\n",
    "plt.semilogx(Fs)\n",
    "plt.semilogx(Fs_SGD, '--')\n",
    "\n",
    "plt.xlim(xmin=10e-1)\n",
    "\n",
    "plt.xlabel('Step k', fontsize=16)\n",
    "plt.ylabel('$ F(w_{k}) = R_S(w_k) $', fontsize=16)\n",
    "\n",
    "plt.show()"
   ]
  }
 ],
 "metadata": {
  "kernelspec": {
   "display_name": "Python 3 (ipykernel)",
   "language": "python",
   "name": "python3"
  },
  "language_info": {
   "codemirror_mode": {
    "name": "ipython",
    "version": 3
   },
   "file_extension": ".py",
   "mimetype": "text/x-python",
   "name": "python",
   "nbconvert_exporter": "python",
   "pygments_lexer": "ipython3",
   "version": "3.10.8"
  }
 },
 "nbformat": 4,
 "nbformat_minor": 5
}
