{
 "cells": [
  {
   "cell_type": "markdown",
   "id": "3da06ada",
   "metadata": {},
   "source": [
    "## Mathematics of Machine Learning"
   ]
  },
  {
   "cell_type": "markdown",
   "id": "56f7038c",
   "metadata": {},
   "source": [
    "### 8th Exercise: Stochastic Gradient Descent"
   ]
  },
  {
   "cell_type": "code",
   "execution_count": 1,
   "id": "74f3c721",
   "metadata": {},
   "outputs": [],
   "source": [
    "import random\n",
    "import numpy as np\n",
    "import matplotlib.pyplot as plt"
   ]
  },
  {
   "cell_type": "markdown",
   "id": "67d1499d",
   "metadata": {},
   "source": [
    "#### (0) Preparation"
   ]
  },
  {
   "cell_type": "code",
   "execution_count": 2,
   "id": "cbd80336",
   "metadata": {},
   "outputs": [],
   "source": [
    "# Load data\n",
    "X = np.genfromtxt(\"data_MNIST_78_X.csv\", delimiter=',')\n",
    "Y = np.genfromtxt(\"data_MNIST_78_Y.csv\", delimiter=',')"
   ]
  },
  {
   "cell_type": "code",
   "execution_count": 3,
   "id": "5a6c16ec",
   "metadata": {},
   "outputs": [],
   "source": [
    "# Transfom the labels in +1 (7) and -1 (8)\n",
    "# y = (y == 7) - (y == 8)\n",
    "for ind, val in enumerate(Y):\n",
    "    if val == 7:\n",
    "        Y[ind] = +1\n",
    "    else:\n",
    "        Y[ind] = -1"
   ]
  },
  {
   "cell_type": "code",
   "execution_count": 4,
   "id": "eac9dc97",
   "metadata": {},
   "outputs": [
    {
     "name": "stdout",
     "output_type": "stream",
     "text": [
      "(784, 12116)\n",
      "[ 1.  1.  1. ... -1. -1. -1.]\n",
      "(12116,)\n"
     ]
    }
   ],
   "source": [
    "print(X.shape)\n",
    "print(Y)\n",
    "print(Y.shape)"
   ]
  },
  {
   "cell_type": "code",
   "execution_count": 5,
   "id": "42452c2b",
   "metadata": {},
   "outputs": [
    {
     "name": "stdout",
     "output_type": "stream",
     "text": [
      "12116\n"
     ]
    }
   ],
   "source": [
    "# Size of the dataset\n",
    "m = len(Y)\n",
    "print(m)"
   ]
  },
  {
   "cell_type": "code",
   "execution_count": 6,
   "id": "68eaa643",
   "metadata": {},
   "outputs": [
    {
     "name": "stdout",
     "output_type": "stream",
     "text": [
      "784\n"
     ]
    }
   ],
   "source": [
    "# Number of features (= dimension of the feature space)\n",
    "d = X.shape[0]\n",
    "print(d)"
   ]
  },
  {
   "cell_type": "markdown",
   "id": "5b35dac6",
   "metadata": {},
   "source": [
    "#### (1) Gradient Descent for Log-Loss"
   ]
  },
  {
   "cell_type": "code",
   "execution_count": 7,
   "id": "d7f3cae4",
   "metadata": {},
   "outputs": [],
   "source": [
    "# Auxiliary quantities for faster calculation of y*(w*x+b):\n",
    "X1 = np.r_[X, np.ones((1, m))]\n",
    "X1Y = np.tile(Y, (X1.shape[0], 1)) * X1\n",
    "\n",
    "def exp_XY(w): return np.exp(-np.dot(w.T, X1Y)).T\n"
   ]
  },
  {
   "cell_type": "code",
   "execution_count": 8,
   "id": "4489ee6f",
   "metadata": {},
   "outputs": [],
   "source": [
    "# Empirical log-Risk as a function of e = exp(- y*(w*x+b))\n",
    "def RS(e): return np.mean(np.log(1 + e), axis=0)"
   ]
  },
  {
   "cell_type": "code",
   "execution_count": 9,
   "id": "8e84fd8a",
   "metadata": {},
   "outputs": [],
   "source": [
    "# Gradient of the empirical log-Risk again as a function of e = exp(- y*(w*x+b))\n",
    "def Grad_RS(e): return - np.divide((np.dot(X1, ((Y * e)/(1 + e)))), m)\n",
    "# Grad_RS = @(e) - (X1 * ( (Y .* e)./(1+e) ) )/m;"
   ]
  },
  {
   "cell_type": "code",
   "execution_count": 10,
   "id": "9063d1b1",
   "metadata": {},
   "outputs": [
    {
     "name": "stdout",
     "output_type": "stream",
     "text": [
      "22.100453956614945\n"
     ]
    }
   ],
   "source": [
    "# Estimate Lipschitz constant of the gradient according to lecture\n",
    "L = 1/4 * np.mean(np.sum(X * X, axis = 0))\n",
    "print(L)"
   ]
  },
  {
   "cell_type": "code",
   "execution_count": 11,
   "id": "5ff7f004",
   "metadata": {},
   "outputs": [
    {
     "name": "stdout",
     "output_type": "stream",
     "text": [
      "0.045247939339304266\n"
     ]
    }
   ],
   "source": [
    "# Maximum allowed step size according to lecture\n",
    "eta = 1/L\n",
    "print(eta)"
   ]
  },
  {
   "cell_type": "code",
   "execution_count": 12,
   "id": "d2ce0084",
   "metadata": {},
   "outputs": [],
   "source": [
    "# Gradient Descent\n",
    "\n",
    "n_iter = 10 # Step count\n",
    "# n_iter = m\n",
    "\n",
    "# Matrix of iterates\n",
    "ws = np.zeros((d+1, n_iter+1)) \n",
    "\n",
    "# Start point w_0\n",
    "ws[:, 0] = np.append(np.zeros((d, 1)), np.array([1])) "
   ]
  },
  {
   "cell_type": "code",
   "execution_count": 13,
   "id": "f2267a7c",
   "metadata": {},
   "outputs": [],
   "source": [
    "for i in range(n_iter):\n",
    "    # Calculation of exp(- y*(w*x+b))\n",
    "    e = exp_XY(ws[:, i])\n",
    "    # Gradient step\n",
    "    ws[:, i+1] = ws[:, i] - eta * Grad_RS(e)"
   ]
  },
  {
   "cell_type": "code",
   "execution_count": 14,
   "id": "b1994605",
   "metadata": {},
   "outputs": [
    {
     "name": "stdout",
     "output_type": "stream",
     "text": [
      "[0.79617684 0.63888007 0.56253391 0.51537577 0.4792754  0.44906741\n",
      " 0.42297626 0.40013429 0.37997485 0.36207024 0.34607894]\n"
     ]
    }
   ],
   "source": [
    "# Calculation of empirical risks for all iterates\n",
    "Fs = RS(exp_XY(ws))\n",
    "print(Fs)"
   ]
  },
  {
   "cell_type": "code",
   "execution_count": 15,
   "id": "af1abd62",
   "metadata": {},
   "outputs": [
    {
     "data": {
      "image/png": "[encoded data removed]",
      "text/plain": [
       "<Figure size 504x360 with 1 Axes>"
      ]
     },
     "metadata": {
      "needs_background": "light"
     },
     "output_type": "display_data"
    }
   ],
   "source": [
    "# Plot the function\n",
    "fig, ax = plt.subplots(figsize=(7, 5))\n",
    "\n",
    "plt.semilogx(Fs)\n",
    "\n",
    "plt.xlabel('Step k', fontsize=16)\n",
    "plt.ylabel('$ F(w_{k}) = R_S(w_k) $', fontsize=16)\n",
    "\n",
    "plt.show()"
   ]
  },
  {
   "cell_type": "markdown",
   "id": "b3ea1a9c",
   "metadata": {},
   "source": [
    "#### (2) Stochastic Gradient Descent"
   ]
  },
  {
   "cell_type": "code",
   "execution_count": 16,
   "id": "27341fd6",
   "metadata": {},
   "outputs": [],
   "source": [
    "# Number of steps and step sizes\n",
    "n_iter_SGD = m\n",
    "def eta_k(k): return 0.5/(1+k)\n",
    "\n",
    "# Matrix of iterates\n",
    "ws_SGD = np.zeros((d+1, n_iter_SGD+1))\n",
    "\n",
    "#Start point w_0\n",
    "ws_SGD[:, 0] = np.append(np.zeros((d, 1)), np.array([1])) "
   ]
  },
  {
   "cell_type": "code",
   "execution_count": 17,
   "id": "09aef71f",
   "metadata": {},
   "outputs": [],
   "source": [
    "for i in range(n_iter_SGD):\n",
    "    ind = np.random.choice(m) # selecting random data point\n",
    "    x = X1[:, ind] # corresponding feature x\n",
    "    y = Y[ind] # corresponding label y\n",
    "    e = np.exp(-np.dot(y, np.dot(ws_SGD[:, i].T, x))) # Calculation of exp(- y*(w*x+b))\n",
    "    v = - np.dot((y*e/(1+e)), x) # Direction of the gradient for data point (x,y)\n",
    "    \n",
    "    # Gradient step\n",
    "    ws_SGD[:, i+1] = ws_SGD[:, i] - eta_k(i) * v"
   ]
  },
  {
   "cell_type": "code",
   "execution_count": 18,
   "id": "0e85d8b5",
   "metadata": {},
   "outputs": [
    {
     "name": "stdout",
     "output_type": "stream",
     "text": [
      "[0.79617684 2.56786641 2.57093726 ... 0.11268636 0.11268322 0.11268313]\n"
     ]
    }
   ],
   "source": [
    "# Calculation of empirical risks for all iterates\n",
    "Fs_SGD = RS(exp_XY(ws_SGD))\n",
    "print(Fs_SGD)"
   ]
  },
  {
   "cell_type": "code",
   "execution_count": 19,
   "id": "ba7267e2",
   "metadata": {},
   "outputs": [
    {
     "data": {
      "image/png": "[encoded data removed]",
      "text/plain": [
       "<Figure size 504x360 with 1 Axes>"
      ]
     },
     "metadata": {
      "needs_background": "light"
     },
     "output_type": "display_data"
    }
   ],
   "source": [
    "# Plot the function\n",
    "fig, ax = plt.subplots(figsize=(7, 5))\n",
    "\n",
    "plt.semilogx(Fs)\n",
    "plt.semilogx(Fs_SGD, '--')\n",
    "\n",
    "plt.xlim(xmin=10e-1)\n",
    "\n",
    "plt.xlabel('Step k', fontsize=16)\n",
    "plt.ylabel('$ F(w_{k}) = R_S(w_k) $', fontsize=16)\n",
    "\n",
    "plt.show()"
   ]
  },
  {
   "cell_type": "code",
   "execution_count": 20,
   "id": "397b9aba",
   "metadata": {},
   "outputs": [
    {
     "data": {
      "image/png": "[encoded data removed]",
      "text/plain": [
       "<Figure size 504x360 with 1 Axes>"
      ]
     },
     "metadata": {
      "needs_background": "light"
     },
     "output_type": "display_data"
    }
   ],
   "source": [
    "# Plot the function\n",
    "fig, ax = plt.subplots(figsize=(7, 5))\n",
    "\n",
    "plt.loglog(Fs)\n",
    "plt.loglog(Fs_SGD, '--')\n",
    "\n",
    "plt.xlim(xmin=10e-1)\n",
    "\n",
    "plt.xlabel('Step k', fontsize=16)\n",
    "plt.ylabel('$ F(w_{k}) = R_S(w_k) $', fontsize=16)\n",
    "\n",
    "plt.show()"
   ]
  }
 ],
 "metadata": {
  "kernelspec": {
   "display_name": "Python 3 (ipykernel)",
   "language": "python",
   "name": "python3"
  },
  "language_info": {
   "codemirror_mode": {
    "name": "ipython",
    "version": 3
   },
   "file_extension": ".py",
   "mimetype": "text/x-python",
   "name": "python",
   "nbconvert_exporter": "python",
   "pygments_lexer": "ipython3",
   "version": "3.10.8"
  }
 },
 "nbformat": 4,
 "nbformat_minor": 5
}
