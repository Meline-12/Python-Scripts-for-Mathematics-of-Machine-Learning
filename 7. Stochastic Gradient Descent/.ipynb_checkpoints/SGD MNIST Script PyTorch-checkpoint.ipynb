{
 "cells": [
  {
   "cell_type": "markdown",
   "id": "3da06ada",
   "metadata": {},
   "source": [
    "## Mathematics of Machine Learning"
   ]
  },
  {
   "cell_type": "markdown",
   "id": "56f7038c",
   "metadata": {},
   "source": [
    "### 8th Exercise: Stochastic Gradient Descent"
   ]
  },
  {
   "cell_type": "code",
   "execution_count": null,
   "id": "74f3c721",
   "metadata": {},
   "outputs": [],
   "source": [
    "import torch\n",
    "import torch.nn as nn\n",
    "\n",
    "import random\n",
    "import numpy as np\n",
    "import matplotlib.pyplot as plt"
   ]
  },
  {
   "cell_type": "markdown",
   "id": "67d1499d",
   "metadata": {},
   "source": [
    "#### (0) Preparation"
   ]
  },
  {
   "cell_type": "code",
   "execution_count": null,
   "id": "cbd80336",
   "metadata": {},
   "outputs": [],
   "source": [
    "# Load data\n",
    "X = np.genfromtxt(\"data_MNIST_78_X.csv\", delimiter=',')\n",
    "Y = np.genfromtxt(\"data_MNIST_78_Y.csv\", delimiter=',')"
   ]
  },
  {
   "cell_type": "code",
   "execution_count": null,
   "id": "5a6c16ec",
   "metadata": {},
   "outputs": [],
   "source": [
    "# Transfom the labels in +1 (7) and -1 (8)\n",
    "# y = (y == 7) - (y == 8)\n",
    "for ind, val in enumerate(Y):\n",
    "    if val == 7:\n",
    "        Y[ind] = +1\n",
    "    else:\n",
    "        Y[ind] = -1"
   ]
  },
  {
   "cell_type": "code",
   "execution_count": null,
   "id": "42452c2b",
   "metadata": {},
   "outputs": [],
   "source": [
    "# Size of the dataset\n",
    "m = len(Y)\n",
    "print(m)"
   ]
  },
  {
   "cell_type": "code",
   "execution_count": null,
   "id": "68eaa643",
   "metadata": {},
   "outputs": [],
   "source": [
    "# Number of features (= dimension of the feature space)\n",
    "d = X.shape[0]\n",
    "print(d)"
   ]
  },
  {
   "cell_type": "markdown",
   "id": "5b35dac6",
   "metadata": {},
   "source": [
    "#### (1) Gradient Descent for Log-Loss"
   ]
  },
  {
   "cell_type": "code",
   "execution_count": null,
   "id": "d7f3cae4",
   "metadata": {},
   "outputs": [],
   "source": [
    "# Auxiliary quantities for faster calculation of y*(w*x+b):\n",
    "X1 = np.r_[X, np.ones((1, m))]\n",
    "X1Y = np.tile(Y, (X1.shape[0], 1)) * X1\n",
    "\n",
    "def exp_XY(w): return np.exp(-np.dot(w.T, X1Y)).T\n"
   ]
  },
  {
   "cell_type": "code",
   "execution_count": null,
   "id": "4489ee6f",
   "metadata": {},
   "outputs": [],
   "source": [
    "# Empirical log-Risk as a function of e = exp(- y*(w*x+b))\n",
    "def RS(e): return np.mean(np.log(1 + e), axis=0)"
   ]
  },
  {
   "cell_type": "code",
   "execution_count": null,
   "id": "8e84fd8a",
   "metadata": {},
   "outputs": [],
   "source": [
    "# Gradient of the empirical log-Risk again as a function of e = exp(- y*(w*x+b))\n",
    "def Grad_RS(e): return - np.divide((np.dot(X1, ((Y * e)/(1 + e)))), m)\n",
    "# Grad_RS = @(e) - (X1 * ( (Y .* e)./(1+e) ) )/m;"
   ]
  },
  {
   "cell_type": "code",
   "execution_count": null,
   "id": "9063d1b1",
   "metadata": {},
   "outputs": [],
   "source": [
    "# Estimate Lipschitz constant of the gradient according to lecture\n",
    "L = 1/4 * np.mean(np.sum(X * X, axis = 0))\n",
    "print(L)"
   ]
  },
  {
   "cell_type": "code",
   "execution_count": null,
   "id": "5ff7f004",
   "metadata": {},
   "outputs": [],
   "source": [
    "# Maximum allowed step size according to lecture\n",
    "eta = 1/L\n",
    "print(eta)"
   ]
  },
  {
   "cell_type": "code",
   "execution_count": null,
   "id": "d2ce0084",
   "metadata": {},
   "outputs": [],
   "source": [
    "# Gradient Descent\n",
    "\n",
    "n_iter = 10 # Step count\n",
    "# n_iter = m\n",
    "\n",
    "# Matrix of iterates\n",
    "ws = np.zeros((d+1, n_iter+1)) \n",
    "\n",
    "# Start point w_0\n",
    "ws[:, 0] = np.append(np.zeros((d, 1)), np.array([1])) "
   ]
  },
  {
   "cell_type": "code",
   "execution_count": null,
   "id": "f2267a7c",
   "metadata": {},
   "outputs": [],
   "source": [
    "for i in range(n_iter):\n",
    "    # Calculation of exp(- y*(w*x+b))\n",
    "    e = exp_XY(ws[:, i])\n",
    "    # Gradient step\n",
    "    ws[:, i+1] = ws[:, i] - eta * Grad_RS(e)"
   ]
  },
  {
   "cell_type": "code",
   "execution_count": null,
   "id": "b1994605",
   "metadata": {},
   "outputs": [],
   "source": [
    "# Calculation of empirical risks for all iterates\n",
    "Fs = RS(exp_XY(ws))\n",
    "print(Fs)"
   ]
  },
  {
   "cell_type": "code",
   "execution_count": null,
   "id": "af1abd62",
   "metadata": {},
   "outputs": [],
   "source": [
    "# Plot the function\n",
    "fig, ax = plt.subplots(figsize=(7, 5))\n",
    "\n",
    "plt.semilogx(Fs)\n",
    "\n",
    "plt.xlabel('Step k', fontsize=16)\n",
    "plt.ylabel('$ F(w_{k}) = R_S(w_k) $', fontsize=16)\n",
    "\n",
    "plt.show()"
   ]
  },
  {
   "cell_type": "markdown",
   "id": "b3ea1a9c",
   "metadata": {},
   "source": [
    "#### (2) Stochastic Gradient Descent"
   ]
  },
  {
   "cell_type": "code",
   "execution_count": null,
   "id": "27341fd6",
   "metadata": {},
   "outputs": [],
   "source": [
    "# Number of steps and step sizes\n",
    "n_iter_SGD = m\n",
    "def eta_k(k): return 0.5/(1+k)\n",
    "\n",
    "# Matrix of iterates\n",
    "ws_SGD = np.zeros((d+1, n_iter_SGD+1))\n",
    "\n",
    "#Start point w_0\n",
    "ws_SGD[:, 0] = np.append(np.zeros((d, 1)), np.array([1])) "
   ]
  },
  {
   "cell_type": "code",
   "execution_count": null,
   "id": "09aef71f",
   "metadata": {},
   "outputs": [],
   "source": [
    "for i in range(n_iter_SGD):\n",
    "    ind = np.random.choice(m) # selecting random data point\n",
    "    x = X1[:, ind] # corresponding feature x\n",
    "    y = Y[ind] # corresponding label y\n",
    "    e = np.exp(-np.dot(y, np.dot(ws_SGD[:, i].T, x))) # Calculation of exp(- y*(w*x+b))\n",
    "    v = - np.dot((y*e/(1+e)), x) # Direction of the gradient for data point (x,y)\n",
    "    \n",
    "    # Gradient step\n",
    "    ws_SGD[:, i+1] = ws_SGD[:, i] - eta_k(i) * v"
   ]
  },
  {
   "cell_type": "code",
   "execution_count": null,
   "id": "0e85d8b5",
   "metadata": {},
   "outputs": [],
   "source": [
    "# Calculation of empirical risks for all iterates\n",
    "Fs_SGD = RS(exp_XY(ws_SGD))\n",
    "print(Fs_SGD)"
   ]
  },
  {
   "cell_type": "code",
   "execution_count": null,
   "id": "ba7267e2",
   "metadata": {},
   "outputs": [],
   "source": [
    "# Plot the function\n",
    "fig, ax = plt.subplots(figsize=(7, 5))\n",
    "\n",
    "plt.semilogx(Fs)\n",
    "plt.semilogx(Fs_SGD, '--')\n",
    "\n",
    "plt.xlim(xmin=10e-1)\n",
    "\n",
    "plt.xlabel('Step k', fontsize=16)\n",
    "plt.ylabel('$ F(w_{k}) = R_S(w_k) $', fontsize=16)\n",
    "\n",
    "plt.show()"
   ]
  },
  {
   "cell_type": "code",
   "execution_count": null,
   "id": "397b9aba",
   "metadata": {},
   "outputs": [],
   "source": [
    "# Plot the function\n",
    "fig, ax = plt.subplots(figsize=(7, 5))\n",
    "\n",
    "plt.loglog(Fs)\n",
    "plt.loglog(Fs_SGD, '--')\n",
    "\n",
    "plt.xlim(xmin=10e-1)\n",
    "\n",
    "plt.xlabel('Step k', fontsize=16)\n",
    "plt.ylabel('$ F(w_{k}) = R_S(w_k) $', fontsize=16)\n",
    "\n",
    "plt.show()"
   ]
  },
  {
   "cell_type": "code",
   "execution_count": null,
   "id": "b8d7ee90",
   "metadata": {},
   "outputs": [],
   "source": [
    "plt.plot(Fs_SGD)\n",
    "plt.xlabel(\"Number of updates\")\n",
    "plt.ylabel(\"empirical risk\")\n",
    "plt.yscale(\"log\")\n",
    "# plt.xscale(\"log\")\n",
    "plt.show()"
   ]
  },
  {
   "cell_type": "markdown",
   "id": "21cf2d6d",
   "metadata": {},
   "source": [
    "#### (2) Stochastic Gradient Descent in PyTorch"
   ]
  },
  {
   "cell_type": "code",
   "execution_count": null,
   "id": "c81c350b",
   "metadata": {},
   "outputs": [],
   "source": [
    "# build the model\n",
    "class LogisticRegression(torch.nn.Module):\n",
    "     def __init__(self, input_dim, output_dim):\n",
    "         super(LogisticRegression, self).__init__()\n",
    "         self.linear = torch.nn.Linear(input_dim, output_dim)\n",
    "     def forward(self, x):\n",
    "         outputs = torch.sigmoid(self.linear(x))\n",
    "         return outputs"
   ]
  },
  {
   "cell_type": "code",
   "execution_count": null,
   "id": "649d0ec9",
   "metadata": {},
   "outputs": [],
   "source": [
    "# from numpy array to tensor\n",
    "X = torch.from_numpy(X.T.astype(np.float32))\n",
    "\n",
    "for ind, val in enumerate(Y):\n",
    "    if val == 1:\n",
    "        Y[ind] = +1\n",
    "    else:\n",
    "        Y[ind] = 0\n",
    "\n",
    "Y = torch.from_numpy(Y.astype(np.float32))\n",
    "print(X.shape)\n",
    "print(Y)\n",
    "        \n"
   ]
  },
  {
   "cell_type": "code",
   "execution_count": null,
   "id": "e42e42e6",
   "metadata": {},
   "outputs": [],
   "source": [
    "# Number of data pairs and features \n",
    "m, d = X.shape\n",
    "print(m, d)"
   ]
  },
  {
   "cell_type": "code",
   "execution_count": null,
   "id": "55ec9a0a",
   "metadata": {},
   "outputs": [],
   "source": [
    "# assigning some hyper-parameters:\n",
    "epochs = m # Indicates the number of passes through the entire training dataset the network has completed\n",
    "input_dim = d \n",
    "output_dim = 1 # Single output \n",
    "learning_rate = 0.5"
   ]
  },
  {
   "cell_type": "code",
   "execution_count": null,
   "id": "958c1746",
   "metadata": {},
   "outputs": [],
   "source": [
    "model = LogisticRegression(input_dim, output_dim)"
   ]
  },
  {
   "cell_type": "code",
   "execution_count": null,
   "id": "daa969f8",
   "metadata": {},
   "outputs": [],
   "source": [
    "# Binary Cross Entropy Loss\n",
    "criterion = torch.nn.BCELoss()"
   ]
  },
  {
   "cell_type": "code",
   "execution_count": null,
   "id": "c96ff96a",
   "metadata": {},
   "outputs": [],
   "source": [
    "# SGD: Implements stochastic gradient descent\n",
    "optimizer = torch.optim.SGD(model.parameters(), lr=learning_rate)"
   ]
  },
  {
   "cell_type": "code",
   "execution_count": null,
   "id": "280f30be",
   "metadata": {},
   "outputs": [],
   "source": [
    "# adjusting learning rate\n",
    "lambda1 = lambda epoch: 1/(1+epoch)\n",
    "scheduler = torch.optim.lr_scheduler.LambdaLR(optimizer, lr_lambda=lambda1)"
   ]
  },
  {
   "cell_type": "code",
   "execution_count": null,
   "id": "7cedc39f",
   "metadata": {},
   "outputs": [],
   "source": [
    "losses = []\n",
    "iter = 0\n",
    "for epoch in range(epochs):\n",
    "    optimizer.zero_grad() # Setting our stored gradients equal to zero\n",
    "    outputs = model(X)\n",
    "    \n",
    "    loss = criterion(torch.squeeze(outputs), Y) \n",
    "    loss.backward() # Computes the gradient of the given tensor w.r.t. the weights/bias\n",
    "    \n",
    "    optimizer.step() # Updates weights and biases with the optimizer (SGD)\n",
    "    scheduler.step()\n",
    "    \n",
    "    losses.append(loss.item())\n",
    "    iter+=1\n",
    "    \n",
    "    # print(scheduler.get_last_lr())\n",
    "    # print(optimizer.param_groups[0]['lr'])"
   ]
  },
  {
   "cell_type": "code",
   "execution_count": null,
   "id": "ff496c36",
   "metadata": {},
   "outputs": [],
   "source": [
    "# Plot the function\n",
    "fig, ax = plt.subplots(figsize=(7, 5))\n",
    "\n",
    "plt.semilogx(Fs)\n",
    "plt.semilogx(Fs_SGD)\n",
    "plt.semilogx([loss for loss in losses], '--')\n",
    "\n",
    "plt.xlim(xmin=10e-1)\n",
    "\n",
    "plt.xlabel('Step k', fontsize=16)\n",
    "plt.ylabel('$ F(w_{k}) = R_S(w_k) $', fontsize=16)\n",
    "\n",
    "plt.show()"
   ]
  },
  {
   "cell_type": "code",
   "execution_count": null,
   "id": "345726dc",
   "metadata": {},
   "outputs": [],
   "source": [
    "plt.plot(losses)\n",
    "plt.xlabel(\"Number of updates\")\n",
    "plt.ylabel(\"BCE Loss\")\n",
    "# plt.yscale(\"log\")\n",
    "# plt.xscale(\"log\")\n",
    "plt.show()"
   ]
  },
  {
   "cell_type": "code",
   "execution_count": null,
   "id": "58c1f178",
   "metadata": {},
   "outputs": [],
   "source": []
  }
 ],
 "metadata": {
  "kernelspec": {
   "display_name": "Python 3 (ipykernel)",
   "language": "python",
   "name": "python3"
  },
  "language_info": {
   "codemirror_mode": {
    "name": "ipython",
    "version": 3
   },
   "file_extension": ".py",
   "mimetype": "text/x-python",
   "name": "python",
   "nbconvert_exporter": "python",
   "pygments_lexer": "ipython3",
   "version": "3.10.10"
  }
 },
 "nbformat": 4,
 "nbformat_minor": 5
}
