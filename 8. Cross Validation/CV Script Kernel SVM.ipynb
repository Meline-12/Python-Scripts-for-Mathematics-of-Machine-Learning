{
 "cells": [
  {
   "cell_type": "markdown",
   "id": "03f3421c",
   "metadata": {},
   "source": [
    "## Mathematics of Machine Learning"
   ]
  },
  {
   "cell_type": "markdown",
   "id": "bd5ac644",
   "metadata": {},
   "source": [
    "### Cross Validation"
   ]
  },
  {
   "cell_type": "code",
   "execution_count": null,
   "id": "a85f53f6",
   "metadata": {},
   "outputs": [],
   "source": [
    "import numpy as np\n",
    "import matplotlib.pyplot as plt\n",
    "from matplotlib import cm\n",
    "\n",
    "from sklearn import svm\n",
    "from sklearn.metrics import accuracy_score"
   ]
  },
  {
   "cell_type": "markdown",
   "id": "22893a72",
   "metadata": {},
   "source": [
    "#### (0) Data Preparation"
   ]
  },
  {
   "cell_type": "code",
   "execution_count": null,
   "id": "5904909e",
   "metadata": {},
   "outputs": [],
   "source": [
    "# Load data\n",
    "x = np.genfromtxt(\"data_KSVM_X.csv\", delimiter=',')\n",
    "y = np.genfromtxt(\"data_KSVM_Y.csv\", delimiter=',')\n",
    "\n",
    "# print(x)\n",
    "# print(x.shape)\n",
    "# print(y)\n",
    "# print(y.shape)\n"
   ]
  },
  {
   "cell_type": "code",
   "execution_count": null,
   "id": "9f59aed0",
   "metadata": {},
   "outputs": [],
   "source": [
    "# Arrange data randomly\n",
    "m = len(y)\n",
    "permutation = np.random.permutation(m)\n",
    "\n",
    "y = y[permutation]\n",
    "x = x[:, permutation]\n"
   ]
  },
  {
   "cell_type": "code",
   "execution_count": null,
   "id": "2a5e2e4c",
   "metadata": {},
   "outputs": [],
   "source": [
    "# Plot the training data\n",
    "\n",
    "fig, ax = plt.subplots()\n",
    "\n",
    "indp = [i for (i, val) in enumerate(y) if val == 1]\n",
    "indm = [i for (i, val) in enumerate(y) if val == -1]\n",
    "\n",
    "ax.scatter(x[0][indp], x[1][indp], c=\"b\", marker=\"o\", linewidths = 2)\n",
    "ax.scatter(x[0][indm], x[1][indm], c=\"r\", marker=\"+\", linewidths = 2)\n",
    "\n",
    "plt.xlabel(\"$ x_{1} $\")\n",
    "plt.ylabel(\"$ x_{2} $\")\n",
    "\n",
    "fig.tight_layout()"
   ]
  },
  {
   "cell_type": "markdown",
   "id": "001c0848",
   "metadata": {},
   "source": [
    "#### (a) and (b) Cross-Validation"
   ]
  },
  {
   "cell_type": "code",
   "execution_count": null,
   "id": "d8ff3f3f",
   "metadata": {},
   "outputs": [],
   "source": [
    "# Lambda for Soft Rule\n",
    "lam = 0.5/m\n",
    "\n",
    "print(m)\n",
    "print(lam)"
   ]
  },
  {
   "cell_type": "code",
   "execution_count": null,
   "id": "89c6fff8",
   "metadata": {},
   "outputs": [],
   "source": [
    "# Number of blocks (folds)\n",
    "K = 10\n",
    "batch_size = m/K"
   ]
  },
  {
   "cell_type": "code",
   "execution_count": null,
   "id": "9c84acc3",
   "metadata": {},
   "outputs": [],
   "source": [
    "# Scaling parameter\n",
    "kappas = 2**np.array([i for i in np.arange(-2, 3.25, 0.25)])\n",
    "print(kappas)"
   ]
  },
  {
   "cell_type": "code",
   "execution_count": null,
   "id": "1ff79e29",
   "metadata": {},
   "outputs": [],
   "source": [
    "# Loop over kappa values\n",
    "CV_error = [0] * len(kappas)\n",
    "\n",
    "for j in range(len(kappas)):\n",
    "    kappa = kappas[j]\n",
    "    \n",
    "    # Cross-Validation loop over folds\n",
    "    for k in range(K):\n",
    "        indizes_test = [int(i + (k) * batch_size) for i in range(int(batch_size))]\n",
    "        indizes_train = np.setdiff1d([i for i in range(m)], indizes_test)\n",
    "\n",
    "        # Training data\n",
    "        x_train = x[:, indizes_train]\n",
    "        y_train = y[indizes_train]\n",
    "        \n",
    "        # Learn from training data\n",
    "        KSVM = svm.SVC(C=0.5/m/lam, kernel='rbf', gamma=kappa)\n",
    "        KSVM.fit(x_train.T, y_train)\n",
    "        \n",
    "        # Test data\n",
    "        x_test = x[:, indizes_test]\n",
    "        y_test = y[indizes_test]\n",
    "        \n",
    "        # Update CV error for loss\n",
    "        h_test = KSVM.predict(x_test.T)\n",
    "        CV_error[j] = CV_error[j] + (1 - accuracy_score(y_test, h_test))\n",
    "        \n",
    "    CV_error[j] = CV_error[j]/K\n"
   ]
  },
  {
   "cell_type": "code",
   "execution_count": null,
   "id": "30ac7bbb",
   "metadata": {},
   "outputs": [],
   "source": [
    "# Plot\n",
    "plt.plot(kappas, CV_error,'o-')\n",
    "plt.show()"
   ]
  },
  {
   "cell_type": "markdown",
   "id": "171cf2a9",
   "metadata": {},
   "source": [
    "#### c) Relearn the best and worst hypotheses"
   ]
  },
  {
   "cell_type": "code",
   "execution_count": null,
   "id": "8e8ae6fa",
   "metadata": {},
   "outputs": [],
   "source": [
    "CV_min = min(CV_error)\n",
    "j_min = CV_error.index(CV_min)\n",
    "\n",
    "CV_max = max(CV_error)\n",
    "j_max = CV_error.index(CV_max)\n",
    "\n",
    "print(f'CV_min: {CV_min}, j_min: {j_min}')\n",
    "print(f'CV_max: {CV_max}, j_min: {j_max}')"
   ]
  },
  {
   "cell_type": "code",
   "execution_count": null,
   "id": "f2b30392",
   "metadata": {},
   "outputs": [],
   "source": [
    "kappa_best = kappas[j_min]\n",
    "kappa_worst = kappas[j_max]\n",
    "\n",
    "print(kappa_best)\n",
    "print(kappa_worst)"
   ]
  },
  {
   "cell_type": "code",
   "execution_count": null,
   "id": "2fa4d517",
   "metadata": {},
   "outputs": [],
   "source": [
    "# Learning from ALL training data\n",
    "KSVM_best = svm.SVC(C=0.5/m/lam, kernel='rbf', gamma=kappa_best)\n",
    "KSVM_best.fit(x.T, y)\n",
    "\n",
    "KSVM_worst = svm.SVC(C=0.5/m/lam, kernel='rbf', gamma=kappa_worst)\n",
    "KSVM_worst.fit(x.T, y)"
   ]
  },
  {
   "cell_type": "markdown",
   "id": "2e94a064",
   "metadata": {},
   "source": [
    "Plot the learned hypothesis"
   ]
  },
  {
   "cell_type": "code",
   "execution_count": null,
   "id": "1e9c1599",
   "metadata": {},
   "outputs": [],
   "source": [
    "# Generate discretization grid\n",
    "x_min = -1.75\n",
    "x_max = 2.25\n",
    "y_min = -1.75\n",
    "y_max = 2.25\n",
    "\n",
    "XX1, XX2 = np.mgrid[x_min:x_max + 4/500:4/500, y_min:y_max + 4/500:4/500]"
   ]
  },
  {
   "cell_type": "code",
   "execution_count": null,
   "id": "e6945f97",
   "metadata": {},
   "outputs": [],
   "source": [
    "# Decision functions\n",
    "Z_best = KSVM_best.decision_function(np.c_[XX1.ravel(), XX2.ravel()])\n",
    "# print('Z_best', Z_best)\n",
    "\n",
    "Z_best = Z_best.reshape(XX1.shape)\n",
    "print(Z_best.shape)\n",
    "\n",
    "Z_worst = KSVM_worst.decision_function(np.c_[XX1.ravel(), XX2.ravel()])\n",
    "# print('Z_worst', Z_worst)\n",
    "\n",
    "Z_worst = Z_worst.reshape(XX1.shape)\n",
    "print(Z_worst.shape)"
   ]
  },
  {
   "cell_type": "code",
   "execution_count": null,
   "id": "94a7c94c",
   "metadata": {},
   "outputs": [],
   "source": [
    "# Plotting the dividing lines\n",
    "\n",
    "fig, ax = plt.subplots(figsize=(10, 7))\n",
    "\n",
    "indp = [i for (i, val) in enumerate(y) if val == 1]\n",
    "indm = [i for (i, val) in enumerate(y) if val == -1]\n",
    "\n",
    "ax.scatter(x[0][indp], x[1][indp], c=\"b\", marker=\"o\", linewidths = 2, label = \"1\")\n",
    "ax.scatter(x[0][indm], x[1][indm], c=\"r\", marker=\"+\", linewidths = 2, label = \"-1\")\n",
    "\n",
    "# Plot learned dividing lines\n",
    "plt.contour(XX1, XX2, Z_best, levels = 0, colors='g', linewidths=3)  # label = \"$h_S$\"\n",
    "plt.contour(XX1, XX2, Z_worst, levels = 0, colors='m', linewidths=3)  # label = \"$h_S$\"\n",
    "\n",
    "# Plot true dividing lines\n",
    "x1 = XX1[:, 0]\n",
    "plt.plot(x1, (x1**2 - 3*x1 - 2*0)/3, '-k', label = \"truth\")\n",
    "plt.plot(x1, (x1**2 - 3*x1 - 2*np.pi)/3, '-k')\n",
    "plt.plot(x1, (x1**2 - 3*x1 + 2*np.pi)/3, '-k')\n",
    "\n",
    "plt.xlim(x_min, x_max)\n",
    "plt.ylim(y_min, y_max)\n",
    "\n",
    "# plt.xticks(())\n",
    "# plt.yticks(())\n",
    "\n",
    "plt.legend()\n",
    "plt.xlabel(\"$ x_{1} $\", fontsize=16)\n",
    "plt.ylabel(\"$ x_{2} $\", fontsize=16)\n",
    "plt.title(f'$ \\kappa $ = {kappa:.3f}', fontsize=20)\n",
    "plt.show()"
   ]
  },
  {
   "cell_type": "markdown",
   "id": "bb0f89d9",
   "metadata": {},
   "source": [
    "#### d) Compare CV error to estimated generalization error"
   ]
  },
  {
   "cell_type": "code",
   "execution_count": null,
   "id": "1f109e00",
   "metadata": {},
   "outputs": [],
   "source": [
    "# Generate new data\n",
    "x_new = np.random.uniform(low=-1.75, high=2.253, size=(2, m))"
   ]
  },
  {
   "cell_type": "code",
   "execution_count": null,
   "id": "63804574",
   "metadata": {},
   "outputs": [],
   "source": [
    "# True multivariate function for classification:\n",
    "def f_true(x): return np.sin(0.5*(x[0, :]**2 - 3*(x[1, :] + x[0, :])))"
   ]
  },
  {
   "cell_type": "code",
   "execution_count": null,
   "id": "9dc3bba2",
   "metadata": {},
   "outputs": [],
   "source": [
    "# Corresponding markings\n",
    "y_new = 2* (f_true(x_new) > 0) - 1\n",
    "# print(y_new)"
   ]
  },
  {
   "cell_type": "code",
   "execution_count": null,
   "id": "8908b512",
   "metadata": {},
   "outputs": [],
   "source": [
    "error_gen_best = 1 - accuracy_score(y_new, KSVM_best.predict(x_new.T))\n",
    "print(error_gen_best)\n",
    "print(CV_min)"
   ]
  },
  {
   "cell_type": "code",
   "execution_count": null,
   "id": "2eedf892",
   "metadata": {},
   "outputs": [],
   "source": [
    "error_gen_worst = 1 - accuracy_score(y_new, KSVM_worst.predict(x_new.T))\n",
    "print(error_gen_worst)\n",
    "print(CV_max)"
   ]
  },
  {
   "cell_type": "code",
   "execution_count": null,
   "id": "4695289b",
   "metadata": {},
   "outputs": [],
   "source": []
  }
 ],
 "metadata": {
  "kernelspec": {
   "display_name": "Python 3 (ipykernel)",
   "language": "python",
   "name": "python3"
  },
  "language_info": {
   "codemirror_mode": {
    "name": "ipython",
    "version": 3
   },
   "file_extension": ".py",
   "mimetype": "text/x-python",
   "name": "python",
   "nbconvert_exporter": "python",
   "pygments_lexer": "ipython3",
   "version": "3.10.10"
  }
 },
 "nbformat": 4,
 "nbformat_minor": 5
}
