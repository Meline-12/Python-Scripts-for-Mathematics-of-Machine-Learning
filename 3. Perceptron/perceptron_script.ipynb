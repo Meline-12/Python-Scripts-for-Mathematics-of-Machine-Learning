{
 "cells": [
  {
   "cell_type": "markdown",
   "id": "6b7f8242",
   "metadata": {},
   "source": [
    "# Mathematics of Machine Learning"
   ]
  },
  {
   "cell_type": "markdown",
   "id": "1ea0f441",
   "metadata": {},
   "source": [
    "## Chapter 3: Linear Classification Methods\n",
    "## Section 3.1: The Perceptron\n",
    "\n",
    "#### Python script to reproduce the example of the perceptron algorithm."
   ]
  },
  {
   "cell_type": "markdown",
   "id": "2173cffe",
   "metadata": {},
   "source": [
    "Import required modules"
   ]
  },
  {
   "cell_type": "code",
   "execution_count": null,
   "id": "7e482642",
   "metadata": {},
   "outputs": [],
   "source": [
    "import numpy as np\n",
    "import matplotlib.pyplot as plt"
   ]
  },
  {
   "cell_type": "code",
   "execution_count": null,
   "id": "9624dea4",
   "metadata": {},
   "outputs": [],
   "source": [
    "from my_perceptron import my_perceptron"
   ]
  },
  {
   "cell_type": "markdown",
   "id": "29d01ae4",
   "metadata": {},
   "source": [
    "#### (0) Preparation"
   ]
  },
  {
   "cell_type": "markdown",
   "id": "f388f1d8",
   "metadata": {},
   "source": [
    "Generate the training data"
   ]
  },
  {
   "cell_type": "code",
   "execution_count": null,
   "id": "03ce82b0",
   "metadata": {},
   "outputs": [],
   "source": [
    "# Number of data\n",
    "m = 25\n",
    "x = np.random.uniform(low=-3, high=3, size=(2, m))\n",
    "# print(x)"
   ]
  },
  {
   "cell_type": "markdown",
   "id": "3138e191",
   "metadata": {},
   "source": [
    "True hyperplane"
   ]
  },
  {
   "cell_type": "code",
   "execution_count": null,
   "id": "ee1929b1",
   "metadata": {},
   "outputs": [],
   "source": [
    "# true separating hyperplane\n",
    "w_true = np.array([[1], [2]])\n",
    "# print(w_true)"
   ]
  },
  {
   "cell_type": "code",
   "execution_count": null,
   "id": "a4baf491",
   "metadata": {},
   "outputs": [],
   "source": [
    "# The sign function returns -1 if x < 0, 0 if x==0, 1 if x > 0. nan is returned for nan inputs.\n",
    "y = np.sign(np.dot(w_true.T, x)) + (np.dot(w_true.T, x) == 0)\n",
    "# print(y)"
   ]
  },
  {
   "cell_type": "markdown",
   "id": "bfdafc98",
   "metadata": {},
   "source": [
    "#### (1) Plotting the training data"
   ]
  },
  {
   "cell_type": "markdown",
   "id": "f9be9d9a",
   "metadata": {},
   "source": [
    "First plot the true hyperplane for x in [-3,3]."
   ]
  },
  {
   "cell_type": "markdown",
   "id": "60b9743d",
   "metadata": {},
   "source": [
    "Then enter the classified points"
   ]
  },
  {
   "cell_type": "code",
   "execution_count": null,
   "id": "3088fe8d",
   "metadata": {},
   "outputs": [],
   "source": [
    "# Points with mark 1\n",
    "inds = [i for (i, val) in enumerate(y[0]) if val == 1]\n",
    "# print(inds)"
   ]
  },
  {
   "cell_type": "code",
   "execution_count": null,
   "id": "df745718",
   "metadata": {},
   "outputs": [],
   "source": [
    "# Points with mark -1\n",
    "indm = [i for (i, val) in enumerate(y[0]) if val == -1]\n",
    "# print(indm)"
   ]
  },
  {
   "cell_type": "code",
   "execution_count": null,
   "id": "743218a9",
   "metadata": {},
   "outputs": [],
   "source": [
    "# First plot the true hyperplane for x in [-3,3].\n",
    "fig, ax = plt.subplots()\n",
    "ax.plot([-3,3], -w_true[0]/w_true[1]*[-3,3], \"--\", label=\"true hyperplane\")\n",
    "ax.scatter(x[0][inds], x[1][inds], c=\"b\", marker=\"+\", linewidths = 2)\n",
    "ax.scatter(x[0][indm], x[1][indm], c=\"r\", marker=\"d\", linewidths = 2)\n",
    "plt.legend()\n",
    "plt.xlabel(\"x1\")\n",
    "plt.ylabel(\"x2\")\n",
    "ax.set(xlim=(-3, 3), ylim=(-3, 3))\n",
    "ax.axis('equal')\n",
    "fig.tight_layout()"
   ]
  },
  {
   "cell_type": "markdown",
   "id": "e9cfcc28",
   "metadata": {},
   "source": [
    "#### (3) Perceptron algorithm"
   ]
  },
  {
   "cell_type": "code",
   "execution_count": null,
   "id": "61e7c8a7",
   "metadata": {},
   "outputs": [],
   "source": [
    "# Apply the algorithm to the data with b = 0 fixed.\n",
    "[w, T, ws, RSs] = my_perceptron(x, y, 0, 10000)\n",
    "# print(T)"
   ]
  },
  {
   "cell_type": "code",
   "execution_count": null,
   "id": "814f02b2",
   "metadata": {},
   "outputs": [],
   "source": [
    "fig, ax = plt.subplots()\n",
    "ax.plot([-3,3], -w_true[0]/w_true[1]*[-3,3], \"--\", label=\"true hyperplane\")\n",
    "ax.scatter(x[0][inds], x[1][inds], c=\"b\", marker=\"+\", linewidths = 2)\n",
    "ax.scatter(x[0][indm], x[1][indm], c=\"r\", marker=\"d\", linewidths = 2)\n",
    "ax.plot([-3,3], -w[0]/w[1]*[-3,3], \"g\", label=\"learned hypothesis\")\n",
    "plt.legend()\n",
    "plt.xlabel(\"x1\")\n",
    "plt.ylabel(\"x2\")\n",
    "ax.set(xlim=(-3, 3), ylim=(-3, 3))\n",
    "ax.axis('equal')\n",
    "fig.tight_layout()\n",
    "plt.show()"
   ]
  }
 ],
 "metadata": {
  "kernelspec": {
   "display_name": "Python 3 (ipykernel)",
   "language": "python",
   "name": "python3"
  },
  "language_info": {
   "codemirror_mode": {
    "name": "ipython",
    "version": 3
   },
   "file_extension": ".py",
   "mimetype": "text/x-python",
   "name": "python",
   "nbconvert_exporter": "python",
   "pygments_lexer": "ipython3",
   "version": "3.10.8"
  }
 },
 "nbformat": 4,
 "nbformat_minor": 5
}
