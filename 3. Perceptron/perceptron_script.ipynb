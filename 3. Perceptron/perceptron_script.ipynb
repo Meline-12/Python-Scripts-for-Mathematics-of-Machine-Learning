{
 "cells": [
  {
   "cell_type": "markdown",
   "id": "6b7f8242",
   "metadata": {},
   "source": [
    "# Mathematics of Machine Learning"
   ]
  },
  {
   "cell_type": "markdown",
   "id": "1ea0f441",
   "metadata": {},
   "source": [
    "## Chapter 3: Linear Classification Methods\n",
    "## Section 3.1: The Perceptron\n",
    "\n",
    "#### Python script to reproduce the example of the perceptron algorithm."
   ]
  },
  {
   "cell_type": "markdown",
   "id": "2173cffe",
   "metadata": {},
   "source": [
    "Import required modules"
   ]
  },
  {
   "cell_type": "code",
   "execution_count": null,
   "id": "7e482642",
   "metadata": {},
   "outputs": [],
   "source": [
    "import numpy as np\n",
    "import matplotlib.pyplot as plt"
   ]
  },
  {
   "cell_type": "code",
   "execution_count": null,
   "id": "9624dea4",
   "metadata": {},
   "outputs": [],
   "source": [
    "import math\n",
    "import random\n",
    "\n",
    "\n",
    "def my_perceptron(x, y, b=1, n_iter=math.inf):\n",
    "    \"\"\"\n",
    "    This function executes the perceptron algorithm from section 3.1. \n",
    "    By means of the third (optional) argument it shall be distinguished whether a homogeneous linear hypothesis is to be learned.\n",
    "\n",
    "    params:\n",
    "    x ->      (d, m)-Matrix consisting of the m training features in R^d\n",
    "    y ->      (1, m)-Vector consisting of the m associated labels {-1, +1}\n",
    "    b ->      Optional argument that learns a homogeneous linear hypothesis from the data for the value 0, otherwise a general linear   hypothesis\n",
    "    n_iter -> Maximum number of interations for the algorithm (by default infinity)\n",
    "\n",
    "    return:\n",
    "    w ->      Column vector containing the learned weights and bias in the form (w_1, w_2, ... w_d, b)^T\n",
    "    T ->      Integer of the number of executed steps in the algorithm\n",
    "    ws ->     Matrix with T+1 columns, the t-th column contains the t-th step Iterated of the procedure\n",
    "    RSs ->    Row vector containing the empirical risk for each vector ws\n",
    "\n",
    "    \"\"\"\n",
    "\n",
    "    # Reading the dimension d and the data number m from x and y, respectively.\n",
    "    d = np.size(x, axis=0)\n",
    "    m = np.size(y, axis=1)\n",
    "\n",
    "    RSs = np.zeros((1, 1))\n",
    "\n",
    "    # Case discrimination, whether homogeneous hypothesis should be learned\n",
    "    if b == 1:\n",
    "        # The case of the general affine-linear hypothesis\n",
    "\n",
    "        # Initialize extended weight vector\n",
    "        w = np.zeros((d+1, 1))\n",
    "\n",
    "        # First entry in ws:\n",
    "        ws = w\n",
    "\n",
    "        # Function to check the constraints\n",
    "        def check(w, x, y): return np.multiply(y, np.dot(w.T, np.append(x, np.ones((1, m)), axis=0)))\n",
    "\n",
    "        # Calculation of the obtained empirical risk\n",
    "        def RS(w): return np.mean(check(w, x, y) <= 0)\n",
    "\n",
    "        # Empirical risk of the current w:\n",
    "        RSs[0] = RS(w)\n",
    "\n",
    "        # Iterations via while loop\n",
    "        t = 0\n",
    "        while np.min(check(w, x, y)) <= 0 and t < n_iter:\n",
    "            # Find all unsatisfied constraints\n",
    "            inds = [i for (i, val) in enumerate(check(w, x, y)[0]) if val <= 0]\n",
    "\n",
    "            # Select an unfulfilled constraint\n",
    "            i = random.choice(inds)\n",
    "\n",
    "            # Update according to iteration rule\n",
    "            v = x[:, i] \n",
    "            w = w + y[0][i] * np.append(v[:, None], np.ones((1, 1)), axis=0)\n",
    "\n",
    "            # Save current w in ws\n",
    "            ws = np.append(ws, w, axis=1)\n",
    "\n",
    "            # Calculate empirical risk and store in RSs\n",
    "            RSs = np.append(RSs, RS(w))\n",
    "\n",
    "            # Increase step counter\n",
    "            t += 1\n",
    "\n",
    "    # The case of the homogeneous linear hypothesis with b = 0\n",
    "    else:\n",
    "       \n",
    "        # Initialize extended weight vector\n",
    "        w = np.zeros((d, 1))\n",
    "\n",
    "        # First entry in ws:\n",
    "        ws = w\n",
    "\n",
    "         # Function to check the constraints (without b)\n",
    "        def check(w, x, y): return np.multiply(y, np.dot(w.T, x))\n",
    "\n",
    "         # Calculation of the obtained empirical risk\n",
    "        def RS(w): return np.mean(check(w, x, y) <= 0)\n",
    "\n",
    "        # Empirical risk of the current w:\n",
    "        RSs[0] = RS(w)\n",
    "\n",
    "        # Iterations via while loop\n",
    "        t = 0\n",
    "        while np.min(check(w, x, y)) <= 0 and t < n_iter:\n",
    "            # Find all unsatisfied constraints\n",
    "            # print(f'CHECK {check(w, x, y)}')\n",
    "            inds = [i for (i, val) in enumerate(check(w, x, y)[0]) if val <= 0]\n",
    "            # print(inds)\n",
    "\n",
    "            # Select an unfulfilled constraint\n",
    "            i = random.choice(inds)\n",
    "            # print(i)\n",
    "\n",
    "            # Update according to iteration rule\n",
    "            v = x[:, i]\n",
    "            w = w + y[0][i] * v[:, None]\n",
    "\n",
    "            # Save current w in ws\n",
    "            ws = np.append(ws, w, axis=1)\n",
    "\n",
    "            # Calculate empirical risk and store in RSs\n",
    "            RSs = np.append(RSs, RS(w))\n",
    "            # RSs[t+1] = RS(w)\n",
    "\n",
    "            # Increase step counter\n",
    "            t += 1\n",
    "    \n",
    "    # step count as output\n",
    "    T = t\n",
    "\n",
    "    return [w, T, ws, RSs]"
   ]
  },
  {
   "cell_type": "markdown",
   "id": "29d01ae4",
   "metadata": {},
   "source": [
    "#### (0) Preparation"
   ]
  },
  {
   "cell_type": "markdown",
   "id": "f388f1d8",
   "metadata": {},
   "source": [
    "Generate the training data"
   ]
  },
  {
   "cell_type": "code",
   "execution_count": null,
   "id": "03ce82b0",
   "metadata": {},
   "outputs": [],
   "source": [
    "# Number of data\n",
    "m = 25\n",
    "x = np.random.uniform(low=-3, high=3, size=(2, m))\n",
    "# print(x)"
   ]
  },
  {
   "cell_type": "markdown",
   "id": "3138e191",
   "metadata": {},
   "source": [
    "True hyperplane"
   ]
  },
  {
   "cell_type": "code",
   "execution_count": null,
   "id": "ee1929b1",
   "metadata": {},
   "outputs": [],
   "source": [
    "# true separating hyperplane\n",
    "w_true = np.array([[1], [2]])\n",
    "# print(w_true)"
   ]
  },
  {
   "cell_type": "code",
   "execution_count": null,
   "id": "a4baf491",
   "metadata": {},
   "outputs": [],
   "source": [
    "# The sign function returns -1 if x < 0, 0 if x==0, 1 if x > 0. nan is returned for nan inputs.\n",
    "y = np.sign(np.dot(w_true.T, x)) + (np.dot(w_true.T, x) == 0)\n",
    "# print(y)"
   ]
  },
  {
   "cell_type": "markdown",
   "id": "bfdafc98",
   "metadata": {},
   "source": [
    "#### (1) Plotting the training data"
   ]
  },
  {
   "cell_type": "markdown",
   "id": "f9be9d9a",
   "metadata": {},
   "source": [
    "First plot the true hyperplane for x in [-3,3]."
   ]
  },
  {
   "cell_type": "markdown",
   "id": "60b9743d",
   "metadata": {},
   "source": [
    "Then enter the classified points"
   ]
  },
  {
   "cell_type": "code",
   "execution_count": null,
   "id": "3088fe8d",
   "metadata": {},
   "outputs": [],
   "source": [
    "# Points with mark 1\n",
    "inds = [i for (i, val) in enumerate(y[0]) if val == 1]\n",
    "# print(inds)"
   ]
  },
  {
   "cell_type": "code",
   "execution_count": null,
   "id": "df745718",
   "metadata": {},
   "outputs": [],
   "source": [
    "# Points with mark -1\n",
    "indm = [i for (i, val) in enumerate(y[0]) if val == -1]\n",
    "# print(indm)"
   ]
  },
  {
   "cell_type": "code",
   "execution_count": null,
   "id": "743218a9",
   "metadata": {},
   "outputs": [],
   "source": [
    "# First plot the true hyperplane for x in [-3,3].\n",
    "fig, ax = plt.subplots()\n",
    "ax.plot([-3,3], -w_true[0]/w_true[1]*[-3,3], \"--\", label=\"true hyperplane\")\n",
    "ax.scatter(x[0][inds], x[1][inds], c=\"b\", marker=\"+\", linewidths = 2)\n",
    "ax.scatter(x[0][indm], x[1][indm], c=\"r\", marker=\"d\", linewidths = 2)\n",
    "plt.legend()\n",
    "plt.xlabel(\"x1\")\n",
    "plt.ylabel(\"x2\")\n",
    "ax.set(xlim=(-3, 3), ylim=(-3, 3))\n",
    "ax.axis('equal')\n",
    "fig.tight_layout()"
   ]
  },
  {
   "cell_type": "markdown",
   "id": "e9cfcc28",
   "metadata": {},
   "source": [
    "#### (3) Perceptron algorithm"
   ]
  },
  {
   "cell_type": "code",
   "execution_count": null,
   "id": "61e7c8a7",
   "metadata": {},
   "outputs": [],
   "source": [
    "# Apply the algorithm to the data with b = 0 fixed.\n",
    "[w, T, ws, RSs] = my_perceptron(x, y, 0, 10000)\n",
    "# print(T)"
   ]
  },
  {
   "cell_type": "code",
   "execution_count": null,
   "id": "814f02b2",
   "metadata": {},
   "outputs": [],
   "source": [
    "fig, ax = plt.subplots()\n",
    "ax.plot([-3,3], -w_true[0]/w_true[1]*[-3,3], \"--\", label=\"true hyperplane\")\n",
    "ax.scatter(x[0][inds], x[1][inds], c=\"b\", marker=\"+\", linewidths = 2)\n",
    "ax.scatter(x[0][indm], x[1][indm], c=\"r\", marker=\"d\", linewidths = 2)\n",
    "ax.plot([-3,3], -w[0]/w[1]*[-3,3], \"g\", label=\"learned hypothesis\")\n",
    "plt.legend()\n",
    "plt.xlabel(\"x1\")\n",
    "plt.ylabel(\"x2\")\n",
    "ax.set(xlim=(-3, 3), ylim=(-3, 3))\n",
    "ax.axis('equal')\n",
    "fig.tight_layout()\n",
    "plt.show()"
   ]
  }
 ],
 "metadata": {
  "kernelspec": {
   "display_name": "Python 3 (ipykernel)",
   "language": "python",
   "name": "python3"
  },
  "language_info": {
   "codemirror_mode": {
    "name": "ipython",
    "version": 3
   },
   "file_extension": ".py",
   "mimetype": "text/x-python",
   "name": "python",
   "nbconvert_exporter": "python",
   "pygments_lexer": "ipython3",
   "version": "3.10.10"
  }
 },
 "nbformat": 4,
 "nbformat_minor": 5
}
