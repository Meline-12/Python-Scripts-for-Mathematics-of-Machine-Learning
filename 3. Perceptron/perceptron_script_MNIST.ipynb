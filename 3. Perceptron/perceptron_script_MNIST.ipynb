{
 "cells": [
  {
   "cell_type": "markdown",
   "id": "20074398",
   "metadata": {},
   "source": [
    "# Mathematics of Machine Learning"
   ]
  },
  {
   "cell_type": "markdown",
   "id": "d0b6ae57",
   "metadata": {},
   "source": [
    "### Script for evaluating the perceptron-learned hypothesis for MNIST."
   ]
  },
  {
   "cell_type": "markdown",
   "id": "565c2418",
   "metadata": {},
   "source": [
    "Import required modules"
   ]
  },
  {
   "cell_type": "code",
   "execution_count": null,
   "id": "d8803257",
   "metadata": {},
   "outputs": [],
   "source": [
    "import datetime\n",
    "import numpy as np\n",
    "import matplotlib.pyplot as plt\n",
    "from my_perceptron import my_perceptron"
   ]
  },
  {
   "cell_type": "markdown",
   "id": "424bfbb8",
   "metadata": {},
   "source": [
    "Load data"
   ]
  },
  {
   "cell_type": "code",
   "execution_count": null,
   "id": "0cece4bc",
   "metadata": {},
   "outputs": [],
   "source": [
    "# Load data\n",
    "x = np.genfromtxt(\"data_MNIST_X.csv\", delimiter=',')"
   ]
  },
  {
   "cell_type": "code",
   "execution_count": null,
   "id": "536f33cc",
   "metadata": {},
   "outputs": [],
   "source": [
    "y = np.genfromtxt(\"data_MNIST_Y.csv\", delimiter=',')"
   ]
  },
  {
   "cell_type": "markdown",
   "id": "59fae3ef",
   "metadata": {},
   "source": [
    "Transfoming the labels into +1 (7) and -1 (8)"
   ]
  },
  {
   "cell_type": "code",
   "execution_count": null,
   "id": "f300420a",
   "metadata": {},
   "outputs": [],
   "source": [
    "# Transfoming the labels into +1 (7) and -1 (8)\n",
    "# y = (y == 7) - (y == 8)\n",
    "for ind, val in enumerate(y):\n",
    "    if val == 7:\n",
    "        y[ind] = +1\n",
    "    else:\n",
    "        y[ind] = -1"
   ]
  },
  {
   "cell_type": "markdown",
   "id": "8185924d",
   "metadata": {},
   "source": [
    "Start the perceptron algorithm"
   ]
  },
  {
   "cell_type": "code",
   "execution_count": null,
   "id": "13fafc85",
   "metadata": {},
   "outputs": [],
   "source": [
    "start = datetime.datetime.now().time()\n",
    "print(start)\n",
    "[w, T, ws, RSs] = my_perceptron(x, [y], 1, 2000)\n",
    "end = datetime.datetime.now().time()\n",
    "print(end)\n",
    "# print([w, T, ws, RSs])"
   ]
  },
  {
   "cell_type": "markdown",
   "id": "19b3deb3",
   "metadata": {},
   "source": [
    "Definition of the learned hypothesis (in 7 and 8)"
   ]
  },
  {
   "cell_type": "code",
   "execution_count": null,
   "id": "216bdf50",
   "metadata": {},
   "outputs": [],
   "source": [
    "def h_S(x): return 7.5 - 0.5 * np.sign(np.dot(w.T, np.append(x, np.ones((1)), axis=0)))"
   ]
  },
  {
   "cell_type": "markdown",
   "id": "21e199e8",
   "metadata": {},
   "source": [
    "### (a) How many misclassifications are there in the training dataset?"
   ]
  },
  {
   "cell_type": "code",
   "execution_count": null,
   "id": "3565e7fa",
   "metadata": {},
   "outputs": [],
   "source": [
    "# the number of data m from y\n",
    "m = np.size([y], axis=1)\n",
    "print(m)"
   ]
  },
  {
   "cell_type": "code",
   "execution_count": null,
   "id": "5994d876",
   "metadata": {},
   "outputs": [],
   "source": [
    "# Function to check the constraints\n",
    "def check(w, x, y): return np.multiply(y, np.dot(w.T, np.append(x, np.ones((1, m)), axis=0)))"
   ]
  },
  {
   "cell_type": "code",
   "execution_count": null,
   "id": "eec4fc7d",
   "metadata": {},
   "outputs": [],
   "source": [
    "# Percentage of misclassified images\n",
    "np.mean(check(w, x, [y]) <= 0)"
   ]
  },
  {
   "cell_type": "markdown",
   "id": "75517bfa",
   "metadata": {},
   "source": [
    "### (b) Find examples of misclassified images"
   ]
  },
  {
   "cell_type": "code",
   "execution_count": null,
   "id": "c51a3eed",
   "metadata": {},
   "outputs": [],
   "source": [
    "# find indexes of misclassified images\n",
    "inds = [i for (i, val) in enumerate(check(w, x, [y])[0]) if val <= 0]\n",
    "# print(inds)"
   ]
  },
  {
   "cell_type": "code",
   "execution_count": null,
   "id": "7fe47c6b",
   "metadata": {},
   "outputs": [],
   "source": [
    "# plot the first of these pictures\n",
    "x_first = x[:, inds[0]]\n",
    "\n",
    "im = plt.imshow(np.reshape(x_first, (28, 28)), cmap='gray')\n",
    "plt.title(f'Recognized as: {h_S(x_first)}')\n",
    "plt.colorbar(im)\n",
    "plt.show()"
   ]
  },
  {
   "cell_type": "code",
   "execution_count": null,
   "id": "1aa93001",
   "metadata": {},
   "outputs": [],
   "source": [
    "# plot the last of these pictures\n",
    "x_last = x[:, inds[-1]]\n",
    "im = plt.imshow(np.reshape(x_last, (28, 28)), cmap='gray')\n",
    "plt.title(f'Recognized as: {h_S(x_last)}')\n",
    "plt.colorbar(im)\n",
    "plt.show()"
   ]
  },
  {
   "cell_type": "markdown",
   "id": "fe3e3dce",
   "metadata": {},
   "source": [
    "### (c) Select correctly classified image"
   ]
  },
  {
   "cell_type": "code",
   "execution_count": null,
   "id": "e0f9b45a",
   "metadata": {},
   "outputs": [],
   "source": [
    "# find indexes of correctly classified images\n",
    "inds_correct = [i for (i, val) in enumerate(check(w, x, [y])[0]) if val > 0]\n",
    "# print(inds_correct)"
   ]
  },
  {
   "cell_type": "code",
   "execution_count": null,
   "id": "3cf966dc",
   "metadata": {},
   "outputs": [],
   "source": [
    "# Random selection by random component of indexes\n",
    "i = np.random.choice(inds_correct)\n",
    "print(i)"
   ]
  },
  {
   "cell_type": "code",
   "execution_count": null,
   "id": "fec13b29",
   "metadata": {},
   "outputs": [],
   "source": [
    "# plot the image\n",
    "x_item = x[:, i]\n",
    "y_item = y[i]\n",
    "im = plt.imshow(np.reshape(x_item, (28, 28)), cmap='gray')\n",
    "plt.title(f'Recognized as: {h_S(x_item)}')\n",
    "plt.colorbar(im)\n",
    "plt.show()"
   ]
  },
  {
   "cell_type": "code",
   "execution_count": null,
   "id": "74ffea90",
   "metadata": {},
   "outputs": [],
   "source": [
    "# determine disturbance direction v (depending on the label of x)\n",
    "if y_item > 0: \n",
    "    v = np.multiply(w, (w < 0)) # negative part of w\n",
    "else:\n",
    "    v = np.multiply(w, (w > 0)) # positive part of w"
   ]
  },
  {
   "cell_type": "code",
   "execution_count": null,
   "id": "d009c718",
   "metadata": {},
   "outputs": [],
   "source": [
    "# omit bias\n",
    "v = v[:-1]"
   ]
  },
  {
   "cell_type": "code",
   "execution_count": null,
   "id": "0c2ff8f0",
   "metadata": {},
   "outputs": [],
   "source": [
    "# find correct scale e: \n",
    "e = - 1.1 * np.dot(w.T, np.append(x_item, np.ones((1)), axis=0)) / np.dot(w[:-1].T, v)"
   ]
  },
  {
   "cell_type": "code",
   "execution_count": null,
   "id": "5cb0c232",
   "metadata": {},
   "outputs": [],
   "source": [
    "# Checking whether thereafter actually misclassified\n",
    "(y_item * np.dot(w.T, np.append(x_item + (e*v).T[0], np.ones((1)), axis=0))) < 0"
   ]
  },
  {
   "cell_type": "code",
   "execution_count": null,
   "id": "071392c2",
   "metadata": {},
   "outputs": [],
   "source": [
    "# Plot the images and disturbances\n",
    "fig, axs = plt.subplots(1, 3)\n",
    "axs_0 = axs[0].imshow(np.reshape(x_item, (28, 28)), cmap='gray')\n",
    "axs[0].set_title(f'Recognized as: {h_S(x_item)}')\n",
    "# fig.colorbar(axs_0_0, ax = axs[0])\n",
    "axs[1].imshow(np.reshape(x_item + (e*v).T[0], (28, 28)), cmap='gray')\n",
    "axs[1].set_title(f'Recognized as: {h_S(x_item + (e*v.T)[0])}')\n",
    "axs[2].imshow(np.reshape(((e*v).T)[0], (28, 28)), cmap='gray')\n",
    "axs[2].set_title('Difference')\n",
    "\n",
    "fig.tight_layout()\n",
    "plt.show()"
   ]
  },
  {
   "cell_type": "code",
   "execution_count": null,
   "id": "9fa55da3",
   "metadata": {},
   "outputs": [],
   "source": [
    "# Plot the images and disturbances\n",
    "fig, axs = plt.subplots(2, 2)\n",
    "axs[0, 0].imshow(np.reshape(x_item, (28, 28)), cmap='gray')\n",
    "axs[0, 0].set_title(f'Recognized as: {h_S(x_item)}')\n",
    "axs[0, 1].imshow(np.reshape(x_item + (e*v).T[0], (28, 28)), cmap='gray')\n",
    "axs[0, 1].set_title(f'Recognized as: {h_S(x_item + (e*v.T)[0])}')\n",
    "axs[1, 0].imshow(np.reshape(((e*v).T)[0], (28, 28)), cmap='gray')\n",
    "axs[1, 0].set_title('Difference')\n",
    "axs[1, 1].imshow(np.reshape(x_item + (e*v).T[0], (28, 28)), cmap='gray')\n",
    "axs[1, 1].set_title('Difference zoomed')\n",
    "fig.tight_layout()\n",
    "plt.show()"
   ]
  },
  {
   "cell_type": "code",
   "execution_count": null,
   "id": "de6a9500",
   "metadata": {},
   "outputs": [],
   "source": []
  }
 ],
 "metadata": {
  "kernelspec": {
   "display_name": "Python 3 (ipykernel)",
   "language": "python",
   "name": "python3"
  },
  "language_info": {
   "codemirror_mode": {
    "name": "ipython",
    "version": 3
   },
   "file_extension": ".py",
   "mimetype": "text/x-python",
   "name": "python",
   "nbconvert_exporter": "python",
   "pygments_lexer": "ipython3",
   "version": "3.10.8"
  }
 },
 "nbformat": 4,
 "nbformat_minor": 5
}
