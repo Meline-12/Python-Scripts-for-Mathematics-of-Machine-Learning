{
 "cells": [
  {
   "cell_type": "markdown",
   "id": "77dd6b5b",
   "metadata": {},
   "source": [
    "## Mathematics of Machine Learning"
   ]
  },
  {
   "cell_type": "markdown",
   "id": "5a4a2fba",
   "metadata": {},
   "source": [
    "### Chapter 3: Linear classification methods\n",
    "### Section 3.4: Soft SVM Rule"
   ]
  },
  {
   "cell_type": "code",
   "execution_count": null,
   "id": "03e546ef",
   "metadata": {},
   "outputs": [],
   "source": [
    "# Install scikit-learn \n",
    "# pip install -U scikit-learn\n",
    "\n",
    "# for more information https://scikit-learn.org/stable/install.html"
   ]
  },
  {
   "cell_type": "code",
   "execution_count": null,
   "id": "62a919e8",
   "metadata": {},
   "outputs": [],
   "source": [
    "import datetime\n",
    "import numpy as np\n",
    "import matplotlib.pyplot as plt\n",
    "\n",
    "from sklearn import svm\n",
    "from sklearn.metrics import accuracy_score\n",
    "from sklearn.metrics import plot_confusion_matrix"
   ]
  },
  {
   "cell_type": "markdown",
   "id": "0463c2cb",
   "metadata": {},
   "source": [
    "#### (0) Data Preparation"
   ]
  },
  {
   "cell_type": "code",
   "execution_count": null,
   "id": "658b49fd",
   "metadata": {},
   "outputs": [],
   "source": [
    "# Load data\n",
    "X = np.genfromtxt(\"data_MNIST_78_X.csv\", delimiter=',')\n",
    "y = np.genfromtxt(\"data_MNIST_78_Y.csv\", delimiter=',')"
   ]
  },
  {
   "cell_type": "code",
   "execution_count": null,
   "id": "db7100dc",
   "metadata": {},
   "outputs": [],
   "source": [
    "# Transfom the labels in +1 (7) and -1 (8)\n",
    "# y = (y == 7) - (y == 8)\n",
    "for ind, val in enumerate(y):\n",
    "    if val == 7:\n",
    "        y[ind] = +1\n",
    "    else:\n",
    "        y[ind] = -1\n",
    "y = y[None, :]"
   ]
  },
  {
   "cell_type": "code",
   "execution_count": null,
   "id": "6dc217f1",
   "metadata": {},
   "outputs": [],
   "source": [
    "print(X.shape)\n",
    "print(y)\n",
    "print(y.shape)"
   ]
  },
  {
   "cell_type": "code",
   "execution_count": null,
   "id": "b4131d84",
   "metadata": {},
   "outputs": [],
   "source": [
    "# Size of the dataset\n",
    "m = len(y[0])\n",
    "print(m)"
   ]
  },
  {
   "cell_type": "code",
   "execution_count": null,
   "id": "504a48b1",
   "metadata": {},
   "outputs": [],
   "source": [
    "# Number of features (= dimension of the feature space)\n",
    "d = X.shape[0]\n",
    "print(d)"
   ]
  },
  {
   "cell_type": "markdown",
   "id": "20c7e002",
   "metadata": {},
   "source": [
    "#### (1) Soft SVM Rule"
   ]
  },
  {
   "cell_type": "code",
   "execution_count": null,
   "id": "3bcd9ba6",
   "metadata": {},
   "outputs": [],
   "source": [
    "# both terms are equally weighted\n",
    "lam = 1/m\n",
    "print(lam)"
   ]
  },
  {
   "cell_type": "code",
   "execution_count": null,
   "id": "ac0e288f",
   "metadata": {},
   "outputs": [],
   "source": [
    "# Create a support vector classifier\n",
    "SVM = svm.SVC(C=1/(2*m*lam), kernel='linear')"
   ]
  },
  {
   "cell_type": "code",
   "execution_count": null,
   "id": "34cbde60",
   "metadata": {},
   "outputs": [],
   "source": [
    "# Learn on the train subset\n",
    "SVM.fit(X.T, y[0])"
   ]
  },
  {
   "cell_type": "code",
   "execution_count": null,
   "id": "2153e6b5",
   "metadata": {},
   "outputs": [],
   "source": [
    "SVM.get_params()"
   ]
  },
  {
   "cell_type": "code",
   "execution_count": null,
   "id": "bc1abbed",
   "metadata": {},
   "outputs": [],
   "source": [
    "# Determine misclassification rate\n",
    "label = SVM.predict(X.T)\n",
    "print(label)\n",
    "print(1 - accuracy_score(y[0], label))"
   ]
  },
  {
   "cell_type": "code",
   "execution_count": null,
   "id": "d2c409ef",
   "metadata": {},
   "outputs": [],
   "source": [
    "# Generate and plot confusion matrix\n",
    "matrix = plot_confusion_matrix(SVM, X.T, y[0],\n",
    "                                 cmap=plt.cm.Blues)\n",
    "                                 # normalize='true')\n",
    "plt.title('Confusion matrix for our classifier')\n",
    "plt.show(matrix)"
   ]
  },
  {
   "cell_type": "code",
   "execution_count": null,
   "id": "3a6210c8",
   "metadata": {},
   "outputs": [],
   "source": [
    "# Get support vectors\n",
    "support_vectors = SVM.support_vectors_\n",
    "print(support_vectors.shape)"
   ]
  },
  {
   "cell_type": "code",
   "execution_count": null,
   "id": "c91563d0",
   "metadata": {},
   "outputs": [],
   "source": [
    "# Calculate weight vector\n",
    "alphas = SVM.dual_coef_\n",
    "w_S_cal = np.dot(alphas, support_vectors)\n",
    "\n",
    "# Get weight vector directly\n",
    "w_S = SVM.coef_\n",
    "\n",
    "# print(w_S_cal == w_S)"
   ]
  },
  {
   "cell_type": "code",
   "execution_count": null,
   "id": "9b189485",
   "metadata": {},
   "outputs": [],
   "source": [
    "# Plot the weight vector\n",
    "fig, ax = plt.subplots()\n",
    "\n",
    "ax.scatter(np.arange(len(w_S[0])), w_S[0])\n",
    "\n",
    "plt.xlabel(\"Component k\")\n",
    "plt.ylabel(\"Weight w_k\")\n",
    "plt.title(f'Weight vector w_S for $ \\lambda $ = 1/m')\n",
    "plt.show()"
   ]
  },
  {
   "cell_type": "code",
   "execution_count": null,
   "id": "da56561d",
   "metadata": {},
   "outputs": [],
   "source": [
    "# Get bias\n",
    "bias = SVM.intercept_\n",
    "print(bias)"
   ]
  },
  {
   "cell_type": "code",
   "execution_count": null,
   "id": "4a843e70",
   "metadata": {},
   "outputs": [],
   "source": [
    "# Find misclassifications\n",
    "misclassifications = np.multiply(y, (np.dot(w_S, X) + bias)) < 0\n",
    "ind_wrong = [i for (i, val) in enumerate(misclassifications[0]) if val == True]\n",
    "# print(ind_wrong)"
   ]
  },
  {
   "cell_type": "code",
   "execution_count": null,
   "id": "6314720d",
   "metadata": {},
   "outputs": [],
   "source": [
    "# Plot the misclassified images\n",
    "\n",
    "plt.subplots(5, 5, figsize=(10, 10))\n",
    "\n",
    "for i in range(len(ind_wrong)):\n",
    "    l1 = plt.subplot(5, 5, i + 1)\n",
    "    x = X[:, ind_wrong[i]]\n",
    "    l1.imshow(np.reshape(x, (28, 28)), cmap='gray')\n",
    "    l1.axis('off')\n",
    "plt.show()"
   ]
  },
  {
   "cell_type": "code",
   "execution_count": null,
   "id": "08a3c46a",
   "metadata": {},
   "outputs": [],
   "source": [
    "# Investigate influence of lambda\n",
    "\n",
    "lambdas = [2**(10-j+1) for j in range(1, 21)]\n",
    "print(lambdas)\n",
    "\n",
    "rate = []\n",
    "\n",
    "start = datetime.datetime.now().time()\n",
    "print(start)\n",
    "for lam in lambdas:\n",
    "    # Train for this lambda\n",
    "    SVM = svm.SVC(C=1/(2*m*lam), kernel='linear')\n",
    "    SVM.fit(X.T, y[0])\n",
    "    \n",
    "    # Predicted labels on the training data\n",
    "    label = SVM.predict(X.T)\n",
    "    \n",
    "    # Misclassification rate\n",
    "    rate.append(1 - accuracy_score(y[0], label))\n",
    "    \n",
    "end = datetime.datetime.now().time()\n",
    "print(end)\n",
    "print(rate)"
   ]
  },
  {
   "cell_type": "code",
   "execution_count": null,
   "id": "c7299418",
   "metadata": {},
   "outputs": [],
   "source": [
    "# Plot \n",
    "\n",
    "plt.subplots(figsize=(10, 5))\n",
    "plt.semilogx(lambdas, rate,'-D' ,color='b')\n",
    "plt.grid(True)\n",
    "plt.xlabel(\"$ \\lambda $\")\n",
    "plt.ylabel(\"Misclassification rate\")\n",
    "plt.xlim(1e-3, 2e3)\n",
    "plt.ylim(0, 0.5)\n",
    "plt.title('Misclassification in the training data')\n",
    "plt.show()"
   ]
  },
  {
   "cell_type": "markdown",
   "id": "e7da1f0e",
   "metadata": {},
   "source": [
    "useful links \n",
    "\n",
    "\n",
    "https://de.mathworks.com/help/stats/support-vector-machines-for-binary-classification.html\n",
    "\n",
    "https://github.com/christianversloot/machine-learning-articles/blob/main/creating-a-simple-binary-svm-classifier-with-python-and-scikit-learn.md\n",
    "\n",
    "https://dmkothari.github.io/Machine-Learning-Projects/SVM_with_MNIST.html\n"
   ]
  },
  {
   "cell_type": "code",
   "execution_count": null,
   "id": "c851f161",
   "metadata": {},
   "outputs": [],
   "source": []
  }
 ],
 "metadata": {
  "kernelspec": {
   "display_name": "Python 3 (ipykernel)",
   "language": "python",
   "name": "python3"
  },
  "language_info": {
   "codemirror_mode": {
    "name": "ipython",
    "version": 3
   },
   "file_extension": ".py",
   "mimetype": "text/x-python",
   "name": "python",
   "nbconvert_exporter": "python",
   "pygments_lexer": "ipython3",
   "version": "3.10.10"
  }
 },
 "nbformat": 4,
 "nbformat_minor": 5
}
