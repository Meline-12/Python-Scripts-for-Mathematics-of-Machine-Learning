{
 "cells": [
  {
   "cell_type": "markdown",
   "id": "76788942",
   "metadata": {},
   "source": [
    "## Mathematics of Machine Learning"
   ]
  },
  {
   "cell_type": "markdown",
   "id": "4ffe1ad1",
   "metadata": {},
   "source": [
    "### Chapter 3: Linear classification methods\n",
    "### Section 3.3: Hard SVM Rule"
   ]
  },
  {
   "cell_type": "code",
   "execution_count": 1,
   "id": "46dd85fc",
   "metadata": {},
   "outputs": [],
   "source": [
    "import numpy as np\n",
    "import scipy.optimize as opt\n",
    "import matplotlib.pyplot as plt"
   ]
  },
  {
   "cell_type": "markdown",
   "id": "4e6256ae",
   "metadata": {},
   "source": [
    "#### (0) Data Preparation"
   ]
  },
  {
   "cell_type": "markdown",
   "id": "56065765",
   "metadata": {},
   "source": [
    "Generate the training data"
   ]
  },
  {
   "cell_type": "code",
   "execution_count": 2,
   "id": "7174b5e2",
   "metadata": {},
   "outputs": [],
   "source": [
    "# Seed - a starting point in generating random numbers\n",
    "np.random.seed(17)"
   ]
  },
  {
   "cell_type": "code",
   "execution_count": 3,
   "id": "7f4f7f50",
   "metadata": {},
   "outputs": [],
   "source": [
    "# Size of the dataset\n",
    "m = 25"
   ]
  },
  {
   "cell_type": "code",
   "execution_count": 4,
   "id": "80a2e4a9",
   "metadata": {},
   "outputs": [
    {
     "name": "stdout",
     "output_type": "stream",
     "text": [
      "[[-1.23200998  0.18352053 -1.85087528 -2.59259785  1.72191276  0.93800113\n",
      "   0.82512538  0.45361736 -2.7656225  -0.85311837  2.67409912 -2.63973192\n",
      "   2.18425262  2.26374316 -2.69283801  0.91451169  0.31050821  0.58507952\n",
      "  -0.09882825 -1.30207103 -1.21364569  0.36905343 -0.62371538  1.73220426\n",
      "  -0.48909369]\n",
      " [-2.13657648 -2.09455983 -2.6685519   1.30822316 -1.24609587 -1.80735677\n",
      "   1.98818353  0.40794672 -2.5059615   0.26999144 -2.04624753  1.06057431\n",
      "  -2.28916641 -0.3300236   2.3278946   1.78360638 -2.59212763  2.76472654\n",
      "   0.95523235  1.3126565   1.46146059  2.32641811 -2.19632599  1.66184748\n",
      "   2.02794907]]\n"
     ]
    }
   ],
   "source": [
    "x = np.random.uniform(low=-3, high=3, size=(2, m))\n",
    "print(x)"
   ]
  },
  {
   "cell_type": "code",
   "execution_count": 5,
   "id": "3f424cdf",
   "metadata": {},
   "outputs": [
    {
     "name": "stdout",
     "output_type": "stream",
     "text": [
      "[[1]\n",
      " [2]]\n"
     ]
    }
   ],
   "source": [
    "# true parameters\n",
    "w_true = np.array([[1], [2]])\n",
    "print(w_true)"
   ]
  },
  {
   "cell_type": "code",
   "execution_count": 6,
   "id": "c65cf458",
   "metadata": {},
   "outputs": [
    {
     "name": "stdout",
     "output_type": "stream",
     "text": [
      "[[-1. -1. -1.  1. -1. -1.  1.  1. -1. -1. -1. -1. -1.  1.  1.  1. -1.  1.\n",
      "   1.  1.  1.  1. -1.  1.  1.]]\n"
     ]
    }
   ],
   "source": [
    "# True markers\n",
    "y = np.sign(np.dot(w_true.T, x)) + (np.dot(w_true.T, x) == 0)\n",
    "print(y)"
   ]
  },
  {
   "cell_type": "code",
   "execution_count": 7,
   "id": "a4556ea7",
   "metadata": {},
   "outputs": [
    {
     "name": "stdout",
     "output_type": "stream",
     "text": [
      "0.01066536162203887\n"
     ]
    }
   ],
   "source": [
    "# Margin distance of the true hypothesis\n",
    "gamma_true = 1/np.linalg.norm(w_true) * np.amin(abs(np.dot(w_true.T, x)))\n",
    "print(gamma_true)"
   ]
  },
  {
   "cell_type": "markdown",
   "id": "9168d246",
   "metadata": {},
   "source": [
    "#### (1) Hard SVM Rule"
   ]
  },
  {
   "cell_type": "code",
   "execution_count": 8,
   "id": "9d72439e",
   "metadata": {},
   "outputs": [],
   "source": [
    "# Determine the solution\n",
    "def fun(w): return np.linalg.norm(w)**2"
   ]
  },
  {
   "cell_type": "code",
   "execution_count": 9,
   "id": "7b3c2c8f",
   "metadata": {},
   "outputs": [],
   "source": [
    "# Determine the linear constraints\n",
    "A = np.tile(y, (2, 1)) * x\n",
    "\n",
    "\n",
    "def constraint(w):\n",
    "    return np.ravel(-np.ones((m, 1)) - np.dot(-A.T, w))\n",
    "\n",
    "\n",
    "con = {'type': 'ineq', 'fun': constraint}"
   ]
  },
  {
   "cell_type": "code",
   "execution_count": 10,
   "id": "380cf71f",
   "metadata": {},
   "outputs": [
    {
     "name": "stdout",
     "output_type": "stream",
     "text": [
      "Optimization terminated successfully    (Exit mode 0)\n",
      "            Current function value: 82.96452759795285\n",
      "            Iterations: 8\n",
      "            Function evaluations: 14\n",
      "            Gradient evaluations: 4\n"
     ]
    }
   ],
   "source": [
    "# The minimize function provides algorithms for constrained minimization.\n",
    "result = opt.minimize(fun, np.zeros((2, 1)), constraints=con, options={'disp': True})"
   ]
  },
  {
   "cell_type": "code",
   "execution_count": 23,
   "id": "582a1226",
   "metadata": {},
   "outputs": [
    {
     "name": "stdout",
     "output_type": "stream",
     "text": [
      "[[3.79296463]\n",
      " [8.28118029]]\n",
      "82.96452759795285\n"
     ]
    }
   ],
   "source": [
    "fw = result.fun\n",
    "w = result.x\n",
    "w = np.array([[i] for i in w])\n",
    "print(w)\n",
    "print(fw)"
   ]
  },
  {
   "cell_type": "code",
   "execution_count": 12,
   "id": "2c88b93a",
   "metadata": {},
   "outputs": [
    {
     "name": "stdout",
     "output_type": "stream",
     "text": [
      "0.10978772294412567\n"
     ]
    }
   ],
   "source": [
    "# Maximum margin\n",
    "gamma = 1/np.sqrt(fw)\n",
    "print(gamma)"
   ]
  },
  {
   "cell_type": "markdown",
   "id": "a0078713",
   "metadata": {},
   "source": [
    "We plot the permissible range and the objective function."
   ]
  },
  {
   "cell_type": "code",
   "execution_count": 13,
   "id": "11d02346",
   "metadata": {},
   "outputs": [
    {
     "name": "stdout",
     "output_type": "stream",
     "text": [
      "[[ 1.23200998 -0.18352053  1.85087528 -2.59259785 -1.72191276 -0.93800113\n",
      "   0.82512538  0.45361736  2.7656225   0.85311837 -2.67409912  2.63973192\n",
      "  -2.18425262  2.26374316 -2.69283801  0.91451169 -0.31050821  0.58507952\n",
      "  -0.09882825 -1.30207103 -1.21364569  0.36905343  0.62371538  1.73220426\n",
      "  -0.48909369]\n",
      " [ 2.13657648  2.09455983  2.6685519   1.30822316  1.24609587  1.80735677\n",
      "   1.98818353  0.40794672  2.5059615  -0.26999144  2.04624753 -1.06057431\n",
      "   2.28916641 -0.3300236   2.3278946   1.78360638  2.59212763  2.76472654\n",
      "   0.95523235  1.3126565   1.46146059  2.32641811  2.19632599  1.66184748\n",
      "   2.02794907]]\n",
      "[9, 11, 13]\n",
      "[0, 1, 2, 3, 4, 5, 6, 7, 8, 10, 12, 14, 15, 16, 17, 18, 19, 20, 21, 22, 23, 24]\n",
      "[0.85311837 2.63973192 2.26374316]\n"
     ]
    }
   ],
   "source": [
    "# To do this, we determine the columns of A with A[1, :] negative or positive ...\n",
    "indAn = [i for (i, val) in enumerate(A[1, :]) if val < 0]\n",
    "indAp = [i for (i, val) in enumerate(A[1, :]) if val > 0]\n",
    "print(A)\n",
    "print(indAn)\n",
    "print(indAp)\n",
    "print(A[0, indAn])"
   ]
  },
  {
   "cell_type": "code",
   "execution_count": 14,
   "id": "aa349fd9",
   "metadata": {},
   "outputs": [],
   "source": [
    "# ... and build from it the lower and upper bound of the permissible range.\n",
    "def a_low(w1): \n",
    "    return np.amax((1 - w1 * A[0, indAp])/np.tile(A[1, indAp], (len(w1), 1)), axis = 1)[:, None]\n",
    "    \n",
    "def a_up(w1):\n",
    "    return np.amin((1 - w1 * A[0, indAn])/np.tile(A[1, indAn], (len(w1), 1)), axis = 1)[:, None]"
   ]
  },
  {
   "cell_type": "code",
   "execution_count": 15,
   "id": "2013e651",
   "metadata": {},
   "outputs": [],
   "source": [
    "# We discretize w1 in the corresponding range.\n",
    "w1 = np.array([[i] for i in np.arange(0, 1/gamma, 0.01)])"
   ]
  },
  {
   "cell_type": "code",
   "execution_count": 16,
   "id": "f037f510",
   "metadata": {},
   "outputs": [
    {
     "name": "stdout",
     "output_type": "stream",
     "text": [
      "(911, 1)\n",
      "(911, 1)\n"
     ]
    }
   ],
   "source": [
    "# And determine the bounds for w2.\n",
    "w2_low = a_low(w1)\n",
    "w2_up = a_up(w1)\n",
    "print(w2_low.shape)\n",
    "print(w2_up.shape)"
   ]
  },
  {
   "cell_type": "code",
   "execution_count": 17,
   "id": "ba35593c",
   "metadata": {},
   "outputs": [
    {
     "name": "stdout",
     "output_type": "stream",
     "text": [
      "380\n"
     ]
    }
   ],
   "source": [
    "# We are looking for the \"intersection\" of the lower and upper boundary.\n",
    "ind = min([i for (i, val) in enumerate(w2_low) if w2_low[i, :] <= w2_up[i, :]])\n",
    "print(ind)"
   ]
  },
  {
   "cell_type": "code",
   "execution_count": 18,
   "id": "e00ea490",
   "metadata": {},
   "outputs": [
    {
     "name": "stdout",
     "output_type": "stream",
     "text": [
      "(501, 1)\n"
     ]
    }
   ],
   "source": [
    "# Plot the height lines of the objective function.\n",
    "# Discretization of the w-values per axis\n",
    "w1s = np.array([[i] for i in np.arange(0, np.amax(w1) + np.amax(w1)/500, np.amax(w1)/500)]) \n",
    "w2s = np.array([[i] for i in np.arange(0, np.amax(w2_up) + np.amax(w2_up)/500, np.amax(w2_up)/500)])\n",
    "print(w2s.shape)"
   ]
  },
  {
   "cell_type": "code",
   "execution_count": 19,
   "id": "1cb55977",
   "metadata": {},
   "outputs": [],
   "source": [
    "# Generate discretization grid\n",
    "WW1, WW2 = np.meshgrid(w1s, w2s)"
   ]
  },
  {
   "cell_type": "code",
   "execution_count": 20,
   "id": "840b1954",
   "metadata": {},
   "outputs": [
    {
     "name": "stdout",
     "output_type": "stream",
     "text": [
      "(251001, 1)\n"
     ]
    }
   ],
   "source": [
    "# Evaluate RS on the grid points\n",
    "F_Ws = (np.ravel(WW1, order='F')**2 + np.ravel(WW2, order='F')**2)[:, None]\n",
    "print(F_Ws.shape)"
   ]
  },
  {
   "cell_type": "code",
   "execution_count": 21,
   "id": "47e491b9",
   "metadata": {},
   "outputs": [
    {
     "data": {
      "image/png": "[encoded data removed]",
      "text/plain": [
       "<Figure size 432x288 with 2 Axes>"
      ]
     },
     "metadata": {
      "needs_background": "light"
     },
     "output_type": "display_data"
    }
   ],
   "source": [
    "# Generate graphic (contour plot)\n",
    "fig, ax = plt.subplots()\n",
    "\n",
    "CS = ax.contour(WW1, WW2, np.reshape(F_Ws, (len(w1s), len(w2s))), 25, zorder=1)\n",
    "fig.colorbar(CS)\n",
    "\n",
    "# Plot the permissible set\n",
    "ax.fill(np.concatenate((w1[ind:], w1[:(ind-1):-1]), axis = 0), np.concatenate((w2_low[ind:], w2_up[:(ind-1):-1]), axis = 0), 'm', label='Permissible set', zorder=2)\n",
    "\n",
    "# Plot the solution of the hard SVM rule and the true parameter\n",
    "ax.plot(w[0], w[1], 'or', label='ws')\n",
    "ax.plot(w1, w_true[1]/w_true[0]*w1, '--k', label='true hyperplane')\n",
    "\n",
    "ax.legend()\n",
    "plt.xlim([0, 1/gamma])\n",
    "plt.ylim([0, max(w2_up)])\n",
    "plt.xlabel('w_1')\n",
    "plt.ylabel('w_2')\n",
    "\n",
    "plt.tight_layout()\n",
    "plt.show()"
   ]
  },
  {
   "cell_type": "markdown",
   "id": "d209a566",
   "metadata": {},
   "source": [
    "#### (2) Plot the training data"
   ]
  },
  {
   "cell_type": "code",
   "execution_count": 22,
   "id": "3ee645f3",
   "metadata": {},
   "outputs": [
    {
     "data": {
      "image/png": "[encoded data removed]",
      "text/plain": [
       "<Figure size 432x288 with 1 Axes>"
      ]
     },
     "metadata": {
      "needs_background": "light"
     },
     "output_type": "display_data"
    }
   ],
   "source": [
    "fig, ax = plt.subplots()\n",
    "\n",
    "# First plot the true hyperplane for x in [-3,3]\n",
    "ax.plot([-3,3], -w_true[0]/w_true[1]*[-3,3], \"--k\", label=\"true hyperplane\")\n",
    "\n",
    "# Plot the learned hypothesis\n",
    "ax.plot([-3,3], -w[0]/w[1]*[-3,3], \"--\", c=\"g\", label=\"learned hyperplane\")\n",
    "\n",
    "# Then enter the classified points\n",
    "inds = [i for (i, val) in enumerate(y[0]) if val == 1]\n",
    "indm = [i for (i, val) in enumerate(y[0]) if val == -1]\n",
    "\n",
    "ax.scatter(x[0][inds], x[1][inds], c=\"b\", marker=\"+\", linewidths = 2)\n",
    "ax.scatter(x[0][indm], x[1][indm], c=\"r\", marker=\"d\", linewidths = 2)\n",
    "\n",
    "plt.legend()\n",
    "plt.xlabel(\"x1\")\n",
    "plt.ylabel(\"x2\")\n",
    "\n",
    "ax.set(xlim=(-3, 3), ylim=(-3, 3))\n",
    "fig.tight_layout()"
   ]
  },
  {
   "cell_type": "code",
   "execution_count": null,
   "id": "e5b1de54",
   "metadata": {},
   "outputs": [],
   "source": []
  },
  {
   "cell_type": "code",
   "execution_count": null,
   "id": "70309cc8",
   "metadata": {},
   "outputs": [],
   "source": []
  }
 ],
 "metadata": {
  "kernelspec": {
   "display_name": "Python 3 (ipykernel)",
   "language": "python",
   "name": "python3"
  },
  "language_info": {
   "codemirror_mode": {
    "name": "ipython",
    "version": 3
   },
   "file_extension": ".py",
   "mimetype": "text/x-python",
   "name": "python",
   "nbconvert_exporter": "python",
   "pygments_lexer": "ipython3",
   "version": "3.10.7"
  }
 },
 "nbformat": 4,
 "nbformat_minor": 5
}
