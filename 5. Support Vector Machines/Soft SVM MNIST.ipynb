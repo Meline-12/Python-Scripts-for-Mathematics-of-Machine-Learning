{
 "cells": [
  {
   "cell_type": "markdown",
   "id": "77dd6b5b",
   "metadata": {},
   "source": [
    "## Mathematics of Machine Learning"
   ]
  },
  {
   "cell_type": "markdown",
   "id": "5a4a2fba",
   "metadata": {},
   "source": [
    "### Chapter 3: Linear classification methods\n",
    "### Section 3.4: Soft SVM Rule"
   ]
  },
  {
   "cell_type": "code",
   "execution_count": 1,
   "id": "03e546ef",
   "metadata": {},
   "outputs": [],
   "source": [
    "# Install scikit-learn \n",
    "# pip install -U scikit-learn\n",
    "\n",
    "# for more information https://scikit-learn.org/stable/install.html"
   ]
  },
  {
   "cell_type": "code",
   "execution_count": 4,
   "id": "62a919e8",
   "metadata": {},
   "outputs": [],
   "source": [
    "import datetime\n",
    "import numpy as np\n",
    "import matplotlib.pyplot as plt\n",
    "\n",
    "from sklearn import svm\n",
    "from sklearn.metrics import accuracy_score\n",
    "from sklearn.metrics import plot_confusion_matrix"
   ]
  },
  {
   "cell_type": "markdown",
   "id": "0463c2cb",
   "metadata": {},
   "source": [
    "#### (0) Data Preparation"
   ]
  },
  {
   "cell_type": "code",
   "execution_count": 5,
   "id": "658b49fd",
   "metadata": {},
   "outputs": [],
   "source": [
    "# Load data\n",
    "X = np.genfromtxt(\"data_MNIST_78_X.csv\", delimiter=',')\n",
    "y = np.genfromtxt(\"data_MNIST_78_Y.csv\", delimiter=',')"
   ]
  },
  {
   "cell_type": "code",
   "execution_count": 6,
   "id": "db7100dc",
   "metadata": {},
   "outputs": [],
   "source": [
    "# Transfom the labels in +1 (7) and -1 (8)\n",
    "# y = (y == 7) - (y == 8)\n",
    "for ind, val in enumerate(y):\n",
    "    if val == 7:\n",
    "        y[ind] = +1\n",
    "    else:\n",
    "        y[ind] = -1\n",
    "y = y[None, :]"
   ]
  },
  {
   "cell_type": "code",
   "execution_count": 7,
   "id": "6dc217f1",
   "metadata": {},
   "outputs": [
    {
     "name": "stdout",
     "output_type": "stream",
     "text": [
      "(784, 12116)\n",
      "[[ 1.  1.  1. ... -1. -1. -1.]]\n",
      "(1, 12116)\n"
     ]
    }
   ],
   "source": [
    "print(X.shape)\n",
    "print(y)\n",
    "print(y.shape)"
   ]
  },
  {
   "cell_type": "code",
   "execution_count": 8,
   "id": "b4131d84",
   "metadata": {},
   "outputs": [
    {
     "name": "stdout",
     "output_type": "stream",
     "text": [
      "12116\n"
     ]
    }
   ],
   "source": [
    "# Size of the dataset\n",
    "m = len(y[0])\n",
    "print(m)"
   ]
  },
  {
   "cell_type": "code",
   "execution_count": 9,
   "id": "504a48b1",
   "metadata": {},
   "outputs": [
    {
     "name": "stdout",
     "output_type": "stream",
     "text": [
      "784\n"
     ]
    }
   ],
   "source": [
    "# Number of features (= dimension of the feature space)\n",
    "d = X.shape[0]\n",
    "print(d)"
   ]
  },
  {
   "cell_type": "markdown",
   "id": "20c7e002",
   "metadata": {},
   "source": [
    "#### (1) Soft SVM Rule"
   ]
  },
  {
   "cell_type": "code",
   "execution_count": 10,
   "id": "3bcd9ba6",
   "metadata": {},
   "outputs": [
    {
     "name": "stdout",
     "output_type": "stream",
     "text": [
      "8.253549026081215e-05\n"
     ]
    }
   ],
   "source": [
    "# both terms are equally weighted\n",
    "lam = 1/m\n",
    "print(lam)"
   ]
  },
  {
   "cell_type": "code",
   "execution_count": 11,
   "id": "ac0e288f",
   "metadata": {},
   "outputs": [],
   "source": [
    "# Create a support vector classifier\n",
    "SVM = svm.SVC(C=1/(2*m*lam), kernel='linear')"
   ]
  },
  {
   "cell_type": "code",
   "execution_count": 12,
   "id": "34cbde60",
   "metadata": {},
   "outputs": [
    {
     "data": {
      "text/html": [
       "<style>#sk-container-id-1 {color: black;background-color: white;}#sk-container-id-1 pre{padding: 0;}#sk-container-id-1 div.sk-toggleable {background-color: white;}#sk-container-id-1 label.sk-toggleable__label {cursor: pointer;display: block;width: 100%;margin-bottom: 0;padding: 0.3em;box-sizing: border-box;text-align: center;}#sk-container-id-1 label.sk-toggleable__label-arrow:before {content: \"▸\";float: left;margin-right: 0.25em;color: #696969;}#sk-container-id-1 label.sk-toggleable__label-arrow:hover:before {color: black;}#sk-container-id-1 div.sk-estimator:hover label.sk-toggleable__label-arrow:before {color: black;}#sk-container-id-1 div.sk-toggleable__content {max-height: 0;max-width: 0;overflow: hidden;text-align: left;background-color: #f0f8ff;}#sk-container-id-1 div.sk-toggleable__content pre {margin: 0.2em;color: black;border-radius: 0.25em;background-color: #f0f8ff;}#sk-container-id-1 input.sk-toggleable__control:checked~div.sk-toggleable__content {max-height: 200px;max-width: 100%;overflow: auto;}#sk-container-id-1 input.sk-toggleable__control:checked~label.sk-toggleable__label-arrow:before {content: \"▾\";}#sk-container-id-1 div.sk-estimator input.sk-toggleable__control:checked~label.sk-toggleable__label {background-color: #d4ebff;}#sk-container-id-1 div.sk-label input.sk-toggleable__control:checked~label.sk-toggleable__label {background-color: #d4ebff;}#sk-container-id-1 input.sk-hidden--visually {border: 0;clip: rect(1px 1px 1px 1px);clip: rect(1px, 1px, 1px, 1px);height: 1px;margin: -1px;overflow: hidden;padding: 0;position: absolute;width: 1px;}#sk-container-id-1 div.sk-estimator {font-family: monospace;background-color: #f0f8ff;border: 1px dotted black;border-radius: 0.25em;box-sizing: border-box;margin-bottom: 0.5em;}#sk-container-id-1 div.sk-estimator:hover {background-color: #d4ebff;}#sk-container-id-1 div.sk-parallel-item::after {content: \"\";width: 100%;border-bottom: 1px solid gray;flex-grow: 1;}#sk-container-id-1 div.sk-label:hover label.sk-toggleable__label {background-color: #d4ebff;}#sk-container-id-1 div.sk-serial::before {content: \"\";position: absolute;border-left: 1px solid gray;box-sizing: border-box;top: 0;bottom: 0;left: 50%;z-index: 0;}#sk-container-id-1 div.sk-serial {display: flex;flex-direction: column;align-items: center;background-color: white;padding-right: 0.2em;padding-left: 0.2em;position: relative;}#sk-container-id-1 div.sk-item {position: relative;z-index: 1;}#sk-container-id-1 div.sk-parallel {display: flex;align-items: stretch;justify-content: center;background-color: white;position: relative;}#sk-container-id-1 div.sk-item::before, #sk-container-id-1 div.sk-parallel-item::before {content: \"\";position: absolute;border-left: 1px solid gray;box-sizing: border-box;top: 0;bottom: 0;left: 50%;z-index: -1;}#sk-container-id-1 div.sk-parallel-item {display: flex;flex-direction: column;z-index: 1;position: relative;background-color: white;}#sk-container-id-1 div.sk-parallel-item:first-child::after {align-self: flex-end;width: 50%;}#sk-container-id-1 div.sk-parallel-item:last-child::after {align-self: flex-start;width: 50%;}#sk-container-id-1 div.sk-parallel-item:only-child::after {width: 0;}#sk-container-id-1 div.sk-dashed-wrapped {border: 1px dashed gray;margin: 0 0.4em 0.5em 0.4em;box-sizing: border-box;padding-bottom: 0.4em;background-color: white;}#sk-container-id-1 div.sk-label label {font-family: monospace;font-weight: bold;display: inline-block;line-height: 1.2em;}#sk-container-id-1 div.sk-label-container {text-align: center;}#sk-container-id-1 div.sk-container {/* jupyter's `normalize.less` sets `[hidden] { display: none; }` but bootstrap.min.css set `[hidden] { display: none !important; }` so we also need the `!important` here to be able to override the default hidden behavior on the sphinx rendered scikit-learn.org. See: https://github.com/scikit-learn/scikit-learn/issues/21755 */display: inline-block !important;position: relative;}#sk-container-id-1 div.sk-text-repr-fallback {display: none;}</style><div id=\"sk-container-id-1\" class=\"sk-top-container\"><div class=\"sk-text-repr-fallback\"><pre>SVC(C=0.5, kernel=&#x27;linear&#x27;)</pre><b>In a Jupyter environment, please rerun this cell to show the HTML representation or trust the notebook. <br />On GitHub, the HTML representation is unable to render, please try loading this page with nbviewer.org.</b></div><div class=\"sk-container\" hidden><div class=\"sk-item\"><div class=\"sk-estimator sk-toggleable\"><input class=\"sk-toggleable__control sk-hidden--visually\" id=\"sk-estimator-id-1\" type=\"checkbox\" checked><label for=\"sk-estimator-id-1\" class=\"sk-toggleable__label sk-toggleable__label-arrow\">SVC</label><div class=\"sk-toggleable__content\"><pre>SVC(C=0.5, kernel=&#x27;linear&#x27;)</pre></div></div></div></div></div>"
      ],
      "text/plain": [
       "SVC(C=0.5, kernel='linear')"
      ]
     },
     "execution_count": 12,
     "metadata": {},
     "output_type": "execute_result"
    }
   ],
   "source": [
    "# Learn on the train subset\n",
    "SVM.fit(X.T, y[0])"
   ]
  },
  {
   "cell_type": "code",
   "execution_count": 13,
   "id": "2153e6b5",
   "metadata": {},
   "outputs": [
    {
     "data": {
      "text/plain": [
       "{'C': 0.5,\n",
       " 'break_ties': False,\n",
       " 'cache_size': 200,\n",
       " 'class_weight': None,\n",
       " 'coef0': 0.0,\n",
       " 'decision_function_shape': 'ovr',\n",
       " 'degree': 3,\n",
       " 'gamma': 'scale',\n",
       " 'kernel': 'linear',\n",
       " 'max_iter': -1,\n",
       " 'probability': False,\n",
       " 'random_state': None,\n",
       " 'shrinking': True,\n",
       " 'tol': 0.001,\n",
       " 'verbose': False}"
      ]
     },
     "execution_count": 13,
     "metadata": {},
     "output_type": "execute_result"
    }
   ],
   "source": [
    "SVM.get_params()"
   ]
  },
  {
   "cell_type": "code",
   "execution_count": 14,
   "id": "bc1abbed",
   "metadata": {},
   "outputs": [
    {
     "name": "stdout",
     "output_type": "stream",
     "text": [
      "[ 1.  1.  1. ... -1. -1. -1.]\n",
      "0.0020633872565203326\n"
     ]
    }
   ],
   "source": [
    "# Determine misclassification rate\n",
    "label = SVM.predict(X.T)\n",
    "print(label)\n",
    "print(1 - accuracy_score(y[0], label))"
   ]
  },
  {
   "cell_type": "code",
   "execution_count": 15,
   "id": "d2c409ef",
   "metadata": {},
   "outputs": [
    {
     "name": "stderr",
     "output_type": "stream",
     "text": [
      "C:\\Users\\ayvaz\\AppData\\Local\\Packages\\PythonSoftwareFoundation.Python.3.10_qbz5n2kfra8p0\\LocalCache\\local-packages\\Python310\\site-packages\\sklearn\\utils\\deprecation.py:87: FutureWarning: Function plot_confusion_matrix is deprecated; Function `plot_confusion_matrix` is deprecated in 1.0 and will be removed in 1.2. Use one of the class methods: ConfusionMatrixDisplay.from_predictions or ConfusionMatrixDisplay.from_estimator.\n",
      "  warnings.warn(msg, category=FutureWarning)\n"
     ]
    },
    {
     "data": {
      "image/png": "[encoded data removed]",
      "text/plain": [
       "<Figure size 432x288 with 2 Axes>"
      ]
     },
     "metadata": {
      "needs_background": "light"
     },
     "output_type": "display_data"
    }
   ],
   "source": [
    "# Generate and plot confusion matrix\n",
    "matrix = plot_confusion_matrix(SVM, X.T, y[0],\n",
    "                                 cmap=plt.cm.Blues)\n",
    "                                 # normalize='true')\n",
    "plt.title('Confusion matrix for our classifier')\n",
    "plt.show(matrix)"
   ]
  },
  {
   "cell_type": "code",
   "execution_count": 16,
   "id": "3a6210c8",
   "metadata": {},
   "outputs": [
    {
     "name": "stdout",
     "output_type": "stream",
     "text": [
      "(285, 784)\n"
     ]
    }
   ],
   "source": [
    "# Get support vectors\n",
    "support_vectors = SVM.support_vectors_\n",
    "print(support_vectors.shape)"
   ]
  },
  {
   "cell_type": "code",
   "execution_count": 17,
   "id": "c91563d0",
   "metadata": {},
   "outputs": [
    {
     "name": "stdout",
     "output_type": "stream",
     "text": [
      "[[ True  True  True  True  True  True  True  True  True  True  True  True\n",
      "   True  True  True  True  True  True  True  True  True  True  True  True\n",
      "   True  True  True  True  True  True  True  True  True  True  True  True\n",
      "   True  True  True  True  True  True  True  True  True  True  True  True\n",
      "   True  True  True  True  True  True  True  True  True  True  True  True\n",
      "   True  True  True  True  True  True  True  True  True  True  True  True\n",
      "   True  True  True  True  True  True  True  True  True  True  True  True\n",
      "   True  True  True  True  True  True  True  True  True  True  True  True\n",
      "   True  True  True  True  True  True  True  True  True  True  True  True\n",
      "   True  True  True  True  True  True  True  True  True  True  True  True\n",
      "   True  True  True  True  True  True  True  True  True  True  True  True\n",
      "   True  True  True  True  True  True  True  True  True  True  True  True\n",
      "   True  True  True  True  True  True  True  True  True  True  True  True\n",
      "   True  True  True  True  True  True  True  True  True  True  True  True\n",
      "   True  True  True  True  True  True  True  True  True  True  True  True\n",
      "   True  True  True  True  True  True  True  True  True  True  True  True\n",
      "   True  True  True  True  True  True  True  True  True  True  True  True\n",
      "   True  True  True  True  True  True  True  True  True  True  True  True\n",
      "   True  True  True  True  True  True  True  True  True  True  True  True\n",
      "   True  True  True  True  True  True  True  True  True  True  True  True\n",
      "   True  True  True  True  True  True  True  True  True  True  True  True\n",
      "   True  True  True  True  True  True  True  True  True  True  True  True\n",
      "   True  True  True  True  True  True  True  True  True  True  True  True\n",
      "   True  True  True  True  True  True  True  True  True  True  True  True\n",
      "   True  True  True  True  True  True  True  True  True  True  True  True\n",
      "   True  True  True  True  True  True  True  True  True  True  True  True\n",
      "   True  True  True  True  True  True  True  True  True  True  True  True\n",
      "   True  True  True  True  True  True  True  True  True  True  True  True\n",
      "   True  True  True  True  True  True  True  True  True  True  True  True\n",
      "   True  True  True  True  True  True  True  True  True  True  True  True\n",
      "   True  True  True  True  True  True  True  True  True  True  True  True\n",
      "   True  True  True  True  True  True  True  True  True  True  True  True\n",
      "   True  True  True  True  True  True  True  True  True  True  True  True\n",
      "   True  True  True  True  True  True  True  True  True  True  True  True\n",
      "   True  True  True  True  True  True  True  True  True  True  True  True\n",
      "   True  True  True  True  True  True  True  True  True  True  True  True\n",
      "   True  True  True  True  True  True  True  True  True  True  True  True\n",
      "   True  True  True  True  True  True  True  True  True  True  True  True\n",
      "   True  True  True  True  True  True  True  True  True  True  True  True\n",
      "   True  True  True  True  True  True  True  True  True  True  True  True\n",
      "   True  True  True  True  True  True  True  True  True  True  True  True\n",
      "   True  True  True  True  True  True  True  True  True  True  True  True\n",
      "   True  True  True  True  True  True  True  True  True  True  True  True\n",
      "   True  True  True  True  True  True  True  True  True  True  True  True\n",
      "   True  True  True  True  True  True  True  True  True  True  True  True\n",
      "   True  True  True  True  True  True  True  True  True  True  True  True\n",
      "   True  True  True  True  True  True  True  True  True  True  True  True\n",
      "   True  True  True  True  True  True  True  True  True  True  True  True\n",
      "   True  True  True  True  True  True  True  True  True  True  True  True\n",
      "   True  True  True  True  True  True  True  True  True  True  True  True\n",
      "   True  True  True  True  True  True  True  True  True  True  True  True\n",
      "   True  True  True  True  True  True  True  True  True  True  True  True\n",
      "   True  True  True  True  True  True  True  True  True  True  True  True\n",
      "   True  True  True  True  True  True  True  True  True  True  True  True\n",
      "   True  True  True  True  True  True  True  True  True  True  True  True\n",
      "   True  True  True  True  True  True  True  True  True  True  True  True\n",
      "   True  True  True  True  True  True  True  True  True  True  True  True\n",
      "   True  True  True  True  True  True  True  True  True  True  True  True\n",
      "   True  True  True  True  True  True  True  True  True  True  True  True\n",
      "   True  True  True  True  True  True  True  True  True  True  True  True\n",
      "   True  True  True  True  True  True  True  True  True  True  True  True\n",
      "   True  True  True  True  True  True  True  True  True  True  True  True\n",
      "   True  True  True  True  True  True  True  True  True  True  True  True\n",
      "   True  True  True  True  True  True  True  True  True  True  True  True\n",
      "   True  True  True  True  True  True  True  True  True  True  True  True\n",
      "   True  True  True  True]]\n"
     ]
    }
   ],
   "source": [
    "# Calculate weight vector\n",
    "alphas = SVM.dual_coef_\n",
    "w_S_cal = np.dot(alphas, support_vectors)\n",
    "\n",
    "# Get weight vector directly\n",
    "w_S = SVM.coef_\n",
    "# print(w_S)\n",
    "# print(w_S.shape)\n",
    "\n",
    "print(w_S_cal == w_S)"
   ]
  },
  {
   "cell_type": "code",
   "execution_count": 20,
   "id": "9b189485",
   "metadata": {},
   "outputs": [
    {
     "data": {
      "image/png": "[encoded data removed]",
      "text/plain": [
       "<Figure size 432x288 with 1 Axes>"
      ]
     },
     "metadata": {
      "needs_background": "light"
     },
     "output_type": "display_data"
    }
   ],
   "source": [
    "# Plot the weight vector\n",
    "fig, ax = plt.subplots()\n",
    "\n",
    "ax.scatter(np.arange(len(w_S[0])), w_S[0])\n",
    "\n",
    "plt.xlabel(\"Component k\")\n",
    "plt.ylabel(\"Weight w_k\")\n",
    "plt.title(f'Weight vector w_S for $ \\lambda $ = 1/m')\n",
    "plt.show()"
   ]
  },
  {
   "cell_type": "code",
   "execution_count": 17,
   "id": "da56561d",
   "metadata": {},
   "outputs": [
    {
     "name": "stdout",
     "output_type": "stream",
     "text": [
      "[2.38496736]\n"
     ]
    }
   ],
   "source": [
    "# Get bias\n",
    "bias = SVM.intercept_\n",
    "print(bias)"
   ]
  },
  {
   "cell_type": "code",
   "execution_count": 18,
   "id": "4a843e70",
   "metadata": {},
   "outputs": [
    {
     "name": "stdout",
     "output_type": "stream",
     "text": [
      "[330, 395, 663, 1601, 2333, 2757, 2790, 2850, 3808, 3843, 4018, 4584, 4799, 4980, 5217, 6021, 6809, 7135, 8217, 8738, 10416, 10608, 11059, 11136, 11905]\n"
     ]
    }
   ],
   "source": [
    "# Find misclassifications\n",
    "misclassifications = np.multiply(y, (np.dot(w_S, X) + bias)) < 0\n",
    "ind_wrong = [i for (i, val) in enumerate(misclassifications[0]) if val == True]\n",
    "print(ind_wrong)"
   ]
  },
  {
   "cell_type": "code",
   "execution_count": 19,
   "id": "6314720d",
   "metadata": {},
   "outputs": [
    {
     "data": {
      "image/png": "[encoded data removed]",
      "text/plain": [
       "<Figure size 720x720 with 25 Axes>"
      ]
     },
     "metadata": {
      "needs_background": "light"
     },
     "output_type": "display_data"
    }
   ],
   "source": [
    "# Plot the misclassified images\n",
    "\n",
    "plt.subplots(5, 5, figsize=(10, 10))\n",
    "\n",
    "for i in range(len(ind_wrong)):\n",
    "    l1 = plt.subplot(5, 5, i + 1)\n",
    "    x = X[:, ind_wrong[i]]\n",
    "    l1.imshow(np.reshape(x, (28, 28)), cmap='gray')\n",
    "    l1.axis('off')\n",
    "plt.show()"
   ]
  },
  {
   "cell_type": "code",
   "execution_count": 20,
   "id": "08a3c46a",
   "metadata": {},
   "outputs": [
    {
     "name": "stdout",
     "output_type": "stream",
     "text": [
      "[1024, 512, 256, 128, 64, 32, 16, 8, 4, 2, 1, 0.5, 0.25, 0.125, 0.0625, 0.03125, 0.015625, 0.0078125, 0.00390625, 0.001953125]\n",
      "08:41:26.780026\n",
      "09:04:43.209158\n",
      "[0.4829151535160119, 0.4829151535160119, 0.4829151535160119, 0.4829151535160119, 0.4829151535160119, 0.4829151535160119, 0.4829151535160119, 0.38180917794651703, 0.03359194453615055, 0.026658963354242338, 0.023192472763288174, 0.019725982172334122, 0.01551667216903263, 0.012875536480686733, 0.010482007263123094, 0.009326510399471744, 0.00825354902608122, 0.0069329811819082154, 0.00660283922086502, 0.005282271376692016]\n"
     ]
    }
   ],
   "source": [
    "# Investigate influence of lambda\n",
    "\n",
    "lambdas = [2**(10-j+1) for j in range(1, 21)]\n",
    "print(lambdas)\n",
    "\n",
    "rate = []\n",
    "\n",
    "start = datetime.datetime.now().time()\n",
    "print(start)\n",
    "for lam in lambdas:\n",
    "    # Train for this lambda\n",
    "    SVM = svm.SVC(C=1/(2*m*lam), kernel='linear')\n",
    "    SVM.fit(X.T, y[0])\n",
    "    \n",
    "    # Predicted labels on the training data\n",
    "    label = SVM.predict(X.T)\n",
    "    \n",
    "    # Misclassification rate\n",
    "    rate.append(1 - accuracy_score(y[0], label))\n",
    "    \n",
    "end = datetime.datetime.now().time()\n",
    "print(end)\n",
    "print(rate)"
   ]
  },
  {
   "cell_type": "code",
   "execution_count": 21,
   "id": "c7299418",
   "metadata": {},
   "outputs": [
    {
     "data": {
      "image/png": "[encoded data removed]",
      "text/plain": [
       "<Figure size 720x360 with 1 Axes>"
      ]
     },
     "metadata": {
      "needs_background": "light"
     },
     "output_type": "display_data"
    }
   ],
   "source": [
    "# Plot \n",
    "\n",
    "plt.subplots(figsize=(10, 5))\n",
    "plt.semilogx(lambdas, rate,'-D' ,color='b')\n",
    "plt.grid(True)\n",
    "plt.xlabel(\"$ \\lambda $\")\n",
    "plt.ylabel(\"Misclassification rate\")\n",
    "plt.xlim(1e-3, 2e3)\n",
    "plt.ylim(0, 0.5)\n",
    "plt.title('Misclassification in the training data')\n",
    "plt.show()"
   ]
  },
  {
   "cell_type": "markdown",
   "id": "9ad2b119",
   "metadata": {},
   "source": [
    "Aufgaben\n",
    "- es weiter machen\n",
    "\n",
    "- SVM kernel implementieren"
   ]
  },
  {
   "cell_type": "markdown",
   "id": "e7da1f0e",
   "metadata": {},
   "source": [
    "useful links \n",
    "\n",
    "\n",
    "https://de.mathworks.com/help/stats/support-vector-machines-for-binary-classification.html\n",
    "\n",
    "https://github.com/christianversloot/machine-learning-articles/blob/main/creating-a-simple-binary-svm-classifier-with-python-and-scikit-learn.md\n",
    "\n",
    "https://dmkothari.github.io/Machine-Learning-Projects/SVM_with_MNIST.html\n"
   ]
  },
  {
   "cell_type": "markdown",
   "id": "a1793d74",
   "metadata": {},
   "source": [
    "$ \\lambda $"
   ]
  },
  {
   "cell_type": "code",
   "execution_count": null,
   "id": "ae554e3b",
   "metadata": {},
   "outputs": [],
   "source": []
  },
  {
   "cell_type": "code",
   "execution_count": null,
   "id": "c851f161",
   "metadata": {},
   "outputs": [],
   "source": []
  }
 ],
 "metadata": {
  "kernelspec": {
   "display_name": "Python 3 (ipykernel)",
   "language": "python",
   "name": "python3"
  },
  "language_info": {
   "codemirror_mode": {
    "name": "ipython",
    "version": 3
   },
   "file_extension": ".py",
   "mimetype": "text/x-python",
   "name": "python",
   "nbconvert_exporter": "python",
   "pygments_lexer": "ipython3",
   "version": "3.10.8"
  }
 },
 "nbformat": 4,
 "nbformat_minor": 5
}
