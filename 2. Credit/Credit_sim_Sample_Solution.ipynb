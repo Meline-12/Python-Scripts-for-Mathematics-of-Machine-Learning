{
 "cells": [
  {
   "cell_type": "markdown",
   "id": "cda5daad",
   "metadata": {},
   "source": [
    "# Mathematics of Machine Learning"
   ]
  },
  {
   "cell_type": "markdown",
   "id": "cfdb8625",
   "metadata": {},
   "source": [
    "## Programming tasks: The creditworthiness assessment"
   ]
  },
  {
   "cell_type": "markdown",
   "id": "b36f67e6",
   "metadata": {},
   "source": [
    "Import required modules"
   ]
  },
  {
   "cell_type": "code",
   "execution_count": null,
   "id": "205fb0a0",
   "metadata": {},
   "outputs": [],
   "source": [
    "import numpy as np\n",
    "import matplotlib.pyplot as plt"
   ]
  },
  {
   "cell_type": "markdown",
   "id": "e453e712",
   "metadata": {},
   "source": [
    "Define hypotheses:\n",
    "for example h1, which takes the value 1 if x < 4400 and the value 0 if x >= 4400"
   ]
  },
  {
   "cell_type": "code",
   "execution_count": null,
   "id": "0c71c0f2",
   "metadata": {},
   "outputs": [],
   "source": [
    "# Define hypotheses\n",
    "# h1 takes the value 1 if x < 4400 and the value 0 if x >= 4400\n",
    "def h1(x): return x < 4400\n",
    "def h2(x): return x < 4600\n",
    "def h3(x): return x < 4800\n",
    "def h4(x): return x < 5000\n",
    "def h5(x): return x < 5200\n",
    "def h6(x): return x < 5400\n",
    "def h7(x): return x < 5600\n",
    "def h8(x): return x < 5800\n",
    "def h9(x): return x < 6000\n",
    "def h10(x): return x < 6200"
   ]
  },
  {
   "cell_type": "markdown",
   "id": "b68afa08",
   "metadata": {},
   "source": [
    "Define true hypothesis"
   ]
  },
  {
   "cell_type": "code",
   "execution_count": null,
   "id": "7d5fb30d",
   "metadata": {},
   "outputs": [],
   "source": [
    "# Define true hypothesis\n",
    "def h_true(x): return x < 5400"
   ]
  },
  {
   "cell_type": "markdown",
   "id": "c04bcef6",
   "metadata": {},
   "source": [
    "##### Simulation of Machine Learning"
   ]
  },
  {
   "cell_type": "markdown",
   "id": "6db6656c",
   "metadata": {},
   "source": [
    "Number of training datasets"
   ]
  },
  {
   "cell_type": "code",
   "execution_count": null,
   "id": "b474ff75",
   "metadata": {},
   "outputs": [],
   "source": [
    "# Number of training datasets\n",
    "M = 1000"
   ]
  },
  {
   "cell_type": "markdown",
   "id": "589618e5",
   "metadata": {},
   "source": [
    "Number of data per training dataset"
   ]
  },
  {
   "cell_type": "code",
   "execution_count": null,
   "id": "4ed99185",
   "metadata": {},
   "outputs": [],
   "source": [
    "N = 10 \n",
    "eps = 0.1\n",
    "delta = 0.05\n",
    "m = np.ceil((np.log(N/delta)) / eps)\n",
    "print(f\"m = {m}\")\n",
    "\n",
    "# m = 27\n",
    "# m = 89\n",
    "# m = 5"
   ]
  },
  {
   "cell_type": "markdown",
   "id": "e6de4386",
   "metadata": {},
   "source": [
    "Create Mx1 vector consisting of zeros"
   ]
  },
  {
   "cell_type": "code",
   "execution_count": null,
   "id": "c176c4ec",
   "metadata": {},
   "outputs": [],
   "source": [
    "RS_min = np.zeros((M, 1))\n",
    "h_S = np.zeros((M, 1))\n",
    "# print(f\"RS_min = {RS_min}\")\n",
    "# print(f\"h_S = {h_S}\")"
   ]
  },
  {
   "cell_type": "markdown",
   "id": "fb3bbec3",
   "metadata": {},
   "source": [
    "Empirical risk for the 10 hypotheses. \n",
    "Here we take the mean value of the vector that we form by evaluating != between h(earnings) and credit_default. \n",
    "The symbol != compares the two vectors element by element and sets 0 \n",
    "if two elements at the same position in the vector are identical, \n",
    "otherwise 1 at the respective position."
   ]
  },
  {
   "cell_type": "code",
   "execution_count": null,
   "id": "cfe658f6",
   "metadata": {},
   "outputs": [],
   "source": [
    "def RS(h): return np.mean(h(earnings) != credit_default)"
   ]
  },
  {
   "cell_type": "markdown",
   "id": "ca24357e",
   "metadata": {},
   "source": [
    "Seed is a starting point in generating random numbers."
   ]
  },
  {
   "cell_type": "code",
   "execution_count": null,
   "id": "46d0b1a1",
   "metadata": {},
   "outputs": [],
   "source": [
    "# Set seed for comparability\n",
    "np.random.seed(17)"
   ]
  },
  {
   "cell_type": "code",
   "execution_count": null,
   "id": "e8e34d8e",
   "metadata": {},
   "outputs": [],
   "source": [
    "for j in range(0, M):\n",
    "    # uniform(size=(m, 1)) returns a vector with m generated uniformly distributed random numbers\n",
    "    earnings = np.array([3000 + 4000*i for i in np.random.uniform(size=(int(m), 1))])\n",
    "\n",
    "    # earnings = np.array([1000 + 7000*i for i in np.random.uniform(size=(int(m), 1))])\n",
    "\n",
    "    credit_default = h_true(earnings)\n",
    "\n",
    "    # List of the empirical risks\n",
    "    R_h = np.zeros((10, 1))\n",
    "\n",
    "    # Evaluation of the empirical risks\n",
    "    R_h[0] = RS(h1)\n",
    "    R_h[1] = RS(h2)\n",
    "    R_h[2] = RS(h3)\n",
    "    R_h[3] = RS(h4)\n",
    "    R_h[4] = RS(h5)\n",
    "    R_h[5] = RS(h6)\n",
    "    R_h[6] = RS(h7)\n",
    "    R_h[7] = RS(h8)\n",
    "    R_h[8] = RS(h9)\n",
    "    R_h[9] = RS(h10)\n",
    "\n",
    "    # Determine the minimizer of the empirical risk and save it in the corresponding vectors.\n",
    "    RS_min[j], h_S[j] = np.amin(R_h), (np.argmin(R_h) + 1)\n",
    "    # print(RS_min[j], h_S[j])"
   ]
  },
  {
   "cell_type": "markdown",
   "id": "19c5bdd3",
   "metadata": {},
   "source": [
    "Graphical visualization "
   ]
  },
  {
   "cell_type": "code",
   "execution_count": null,
   "id": "ab50c810",
   "metadata": {},
   "outputs": [],
   "source": [
    "fig, ax = plt.subplots()\n",
    "ax.scatter(earnings, credit_default)\n",
    "plt.show()"
   ]
  },
  {
   "cell_type": "markdown",
   "id": "c22b4b99",
   "metadata": {},
   "source": [
    "Graphical output of the learned hypotheses"
   ]
  },
  {
   "cell_type": "code",
   "execution_count": null,
   "id": "1e0975b7",
   "metadata": {},
   "outputs": [],
   "source": [
    "fig2, ax2 = plt.subplots()\n",
    "ax2.hist(h_S, bins=np.arange(0.5, 11.5, 1), density=True, zorder=3)\n",
    "ax2.grid(zorder=0)\n",
    "plt.ylim(top = 1)\n",
    "plt.title(\"How many times was which hypothesis learned via ERM?\")\n",
    "plt.xlabel(\"Learned hypothesis h_i\")\n",
    "plt.ylabel(\"Relative frequency\")\n",
    "plt.show()"
   ]
  },
  {
   "cell_type": "markdown",
   "id": "5b90fdf5",
   "metadata": {},
   "source": [
    "Examine how many times the hypothesis i was learned...."
   ]
  },
  {
   "cell_type": "code",
   "execution_count": null,
   "id": "e1227bc5",
   "metadata": {},
   "outputs": [],
   "source": [
    "# Examine how many times the hypothesis i was learned....\n",
    "i = 6\n",
    "print(np.mean(h_S == i))"
   ]
  }
 ],
 "metadata": {
  "kernelspec": {
   "display_name": "Python 3 (ipykernel)",
   "language": "python",
   "name": "python3"
  },
  "language_info": {
   "codemirror_mode": {
    "name": "ipython",
    "version": 3
   },
   "file_extension": ".py",
   "mimetype": "text/x-python",
   "name": "python",
   "nbconvert_exporter": "python",
   "pygments_lexer": "ipython3",
   "version": "3.10.8"
  }
 },
 "nbformat": 4,
 "nbformat_minor": 5
}
