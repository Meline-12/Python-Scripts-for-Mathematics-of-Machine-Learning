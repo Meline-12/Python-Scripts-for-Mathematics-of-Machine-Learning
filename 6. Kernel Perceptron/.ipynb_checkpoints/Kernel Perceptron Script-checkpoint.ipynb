{
 "cells": [
  {
   "cell_type": "markdown",
   "id": "89c106bc",
   "metadata": {},
   "source": [
    "## Mathematics of Machine Learning"
   ]
  },
  {
   "cell_type": "markdown",
   "id": "d241745f",
   "metadata": {},
   "source": [
    "### 5th exercise sheet - task 1b"
   ]
  },
  {
   "cell_type": "code",
   "execution_count": null,
   "id": "769979ed",
   "metadata": {},
   "outputs": [],
   "source": [
    "import random\n",
    "import numpy as np\n",
    "import matplotlib.pyplot as plt\n",
    "from matplotlib import cm"
   ]
  },
  {
   "cell_type": "markdown",
   "id": "f3e6e811",
   "metadata": {},
   "source": [
    "#### (1) Kernel Perceptron Algorithm"
   ]
  },
  {
   "cell_type": "code",
   "execution_count": null,
   "id": "407537b3",
   "metadata": {},
   "outputs": [],
   "source": [
    "def my_kernel_perceptron(K, y):\n",
    "    \n",
    "    # Read m number of data from y or K\n",
    "    m = len(y)\n",
    "\n",
    "    # Initializations\n",
    "    alpha = np.zeros((m, 1))\n",
    "    b = 0\n",
    "    t = 0\n",
    "\n",
    "    alphas = np.append(alpha, b)[:, None]\n",
    "    print(alphas.shape)\n",
    "\n",
    "    # Check whether all constraints are fulfilled\n",
    "    check = y[:, None] * np.dot(K, alpha+b)\n",
    "\n",
    "    while np.min(check) <= 0:\n",
    "        # Find all unsatisfied constraints\n",
    "        inds = [i for (i, val) in enumerate(check) if val <= 0]\n",
    "\n",
    "        # Select a constraint that is not fulfilled\n",
    "        i = random.choice(inds)\n",
    "\n",
    "        # Update according to iteration rule\n",
    "        alpha[i] = alpha[i] + y[i]\n",
    "        b = b + y[i]\n",
    "        alphas = np.c_[alphas, np.append(alpha, b)[:, None]]\n",
    "\n",
    "        # Check the constraint \n",
    "        check = y[:, None] * np.dot(K, alpha+b)\n",
    "\n",
    "        # Increase step counter\n",
    "        t += 1\n",
    "\n",
    "    # Define output values\n",
    "    T = t\n",
    "    isSV = np.abs(alpha) > 0\n",
    "    \n",
    "    return {'alpha': alpha, 'bias': b, 'T': T, 'isSV': isSV}"
   ]
  },
  {
   "cell_type": "markdown",
   "id": "405bab4b",
   "metadata": {},
   "source": [
    "#### (2) Apply Kernel Perceptron Algorithm"
   ]
  },
  {
   "cell_type": "markdown",
   "id": "042bad76",
   "metadata": {},
   "source": [
    "##### (2.1) Data Preparation"
   ]
  },
  {
   "cell_type": "code",
   "execution_count": null,
   "id": "92354e87",
   "metadata": {},
   "outputs": [],
   "source": [
    "# Load data\n",
    "x = np.genfromtxt(\"data_KSVM_X.csv\", delimiter=',')\n",
    "y = np.genfromtxt(\"data_KSVM_Y.csv\", delimiter=',')\n",
    "\n",
    "# print(x)\n",
    "# print(x.shape)\n",
    "# print(y)\n",
    "# print(y.shape)"
   ]
  },
  {
   "cell_type": "code",
   "execution_count": null,
   "id": "4a143d9b",
   "metadata": {},
   "outputs": [],
   "source": [
    "indp = [i for (i, val) in enumerate(y) if val == 1] # Data with +1 \n",
    "indm = [i for (i, val) in enumerate(y) if val == -1] # Data with -1"
   ]
  },
  {
   "cell_type": "code",
   "execution_count": null,
   "id": "f99ff514",
   "metadata": {},
   "outputs": [],
   "source": [
    "m = len(y)\n",
    "print(m)"
   ]
  },
  {
   "cell_type": "code",
   "execution_count": null,
   "id": "6bc38242",
   "metadata": {},
   "outputs": [],
   "source": [
    "# Selection of the Gaussian kernel function\n",
    "kappa = 4\n",
    "\n",
    "def K_fun(x, y): return np.exp(-kappa * (np.linalg.norm(x-y, ord=2))**2) # ord=2 for Euclidean norm"
   ]
  },
  {
   "cell_type": "code",
   "execution_count": null,
   "id": "65964957",
   "metadata": {},
   "outputs": [],
   "source": [
    "# Create the Gram matrix with regard to the Gaussian kernel function\n",
    "K = np.zeros((m, m))\n",
    "\n",
    "for i in range(m):\n",
    "    for j in range(m):\n",
    "        K[i][j] = K_fun(x[:, i], x[:, j])\n",
    "        "
   ]
  },
  {
   "cell_type": "markdown",
   "id": "a15902b0",
   "metadata": {},
   "source": [
    "##### (2.2) Apply KP Algorithm"
   ]
  },
  {
   "cell_type": "code",
   "execution_count": null,
   "id": "c1087dd7",
   "metadata": {},
   "outputs": [],
   "source": [
    "result = my_kernel_perceptron(K, y)\n",
    "\n",
    "alpha_S = result['alpha']\n",
    "b_S = result['bias']\n",
    "T = result['T']\n",
    "isSV = result['isSV']"
   ]
  },
  {
   "cell_type": "markdown",
   "id": "23a10575",
   "metadata": {},
   "source": [
    "#### (3) Plot the result"
   ]
  },
  {
   "cell_type": "code",
   "execution_count": null,
   "id": "861c06d6",
   "metadata": {},
   "outputs": [],
   "source": [
    "# Generate discretization grid\n",
    "x_min = -1.75\n",
    "x_max = 2.25\n",
    "y_min = -1.75\n",
    "y_max = 2.25\n",
    "\n",
    "XX1, XX2 = np.mgrid[x_min:x_max + 4/500:4/500, y_min:y_max + 4/500:4/500]\n",
    "\n",
    "# Grid point matrice\n",
    "M = np.c_[XX1.ravel(), XX2.ravel()]"
   ]
  },
  {
   "cell_type": "code",
   "execution_count": null,
   "id": "86d2159e",
   "metadata": {},
   "outputs": [],
   "source": [
    "# Find support vectors\n",
    "SV_supp = np.array([x[:, i] for (i, val) in enumerate(isSV) if val == True]).T # Coordinates of the SV\n",
    "# print(SV_supp)\n",
    "m_supp = SV_supp.shape[1] # Number of SV\n",
    "print(m_supp)"
   ]
  },
  {
   "cell_type": "code",
   "execution_count": null,
   "id": "c5d8b325",
   "metadata": {},
   "outputs": [],
   "source": [
    "alpha_S = np.array([alpha_S[i] for (i, val) in enumerate(isSV) if val == True])\n",
    "print(alpha_S.shape)"
   ]
  },
  {
   "cell_type": "code",
   "execution_count": null,
   "id": "f3fcb080",
   "metadata": {},
   "outputs": [],
   "source": [
    "# Distance function to the support vectors\n",
    "def SV_fun(x): return np.sum((SV_supp - np.tile(x, (1, m_supp)))**2, axis=0)[:, None].T"
   ]
  },
  {
   "cell_type": "code",
   "execution_count": null,
   "id": "474d56d5",
   "metadata": {},
   "outputs": [],
   "source": [
    "# Learned RKHS function\n",
    "def kfun_S(x): return np.dot(np.exp(-kappa * SV_fun(x)), alpha_S) + b_S"
   ]
  },
  {
   "cell_type": "code",
   "execution_count": null,
   "id": "266df7ad",
   "metadata": {},
   "outputs": [],
   "source": [
    "# Values of the RKHS function on the grid\n",
    "Z = np.empty((len(M), 1))\n",
    "for i in range(len(M)):\n",
    "    Z[i] = kfun_S(M[i][:, None])"
   ]
  },
  {
   "cell_type": "code",
   "execution_count": null,
   "id": "54a2331f",
   "metadata": {},
   "outputs": [],
   "source": [
    "fig, ax = plt.subplots(subplot_kw={\"projection\": \"3d\"}, figsize=(7, 7))\n",
    "\n",
    "Z_reshape = Z.reshape(XX1.shape)\n",
    "ax.plot_surface(XX1, XX2, Z_reshape, cmap=cm.coolwarm, linewidth=0, antialiased=False)\n",
    "\n",
    "# ax.view_init(30, 60)\n",
    "plt.show()"
   ]
  },
  {
   "cell_type": "code",
   "execution_count": null,
   "id": "5016f788",
   "metadata": {},
   "outputs": [],
   "source": [
    "# 2D-Plot\n",
    "\n",
    "C = np.max(Z)\n",
    "\n",
    "fig, ax = plt.subplots(subplot_kw={\"projection\": \"3d\"}, figsize=(10, 10))\n",
    "\n",
    "ax.plot_surface(XX1, XX2, (Z-C).reshape(XX1.shape), cmap=cm.coolwarm, linewidth=0, antialiased=False)\n",
    "\n",
    "# Plot learned dividing lines\n",
    "plt.contour(XX1, XX2, Z.reshape(XX1.shape), levels = 0)  # label = \"$h_S$\"\n",
    "\n",
    "ax.scatter(x[0][indp], x[1][indp], c=\"b\", marker=\"o\", linewidths = 2, label = \"1\")\n",
    "ax.scatter(x[0][indm], x[1][indm], c=\"r\", marker=\"+\", linewidths = 2, label = \"-1\")\n",
    "\n",
    "# Plot support vectors\n",
    "plt.plot(SV_supp[:, 0], SV_supp[:, 1], marker=\"o\", markersize=12, \n",
    "         markerfacecolor=\"None\", linestyle='None', label = \"Support Vectors\")\n",
    "\n",
    "ax.view_init(90)\n",
    "\n",
    "plt.show()"
   ]
  },
  {
   "cell_type": "code",
   "execution_count": null,
   "id": "86e6875c",
   "metadata": {},
   "outputs": [],
   "source": []
  }
 ],
 "metadata": {
  "kernelspec": {
   "display_name": "Python 3 (ipykernel)",
   "language": "python",
   "name": "python3"
  },
  "language_info": {
   "codemirror_mode": {
    "name": "ipython",
    "version": 3
   },
   "file_extension": ".py",
   "mimetype": "text/x-python",
   "name": "python",
   "nbconvert_exporter": "python",
   "pygments_lexer": "ipython3",
   "version": "3.10.10"
  }
 },
 "nbformat": 4,
 "nbformat_minor": 5
}
