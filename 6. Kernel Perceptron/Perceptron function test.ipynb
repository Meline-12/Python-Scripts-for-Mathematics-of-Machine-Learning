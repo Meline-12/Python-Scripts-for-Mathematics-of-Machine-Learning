{
 "cells": [
  {
   "cell_type": "code",
   "execution_count": null,
   "id": "d0738006",
   "metadata": {},
   "outputs": [],
   "source": [
    "import random\n",
    "import numpy as np\n",
    "import matplotlib.pyplot as plt\n",
    "from matplotlib import cm"
   ]
  },
  {
   "cell_type": "code",
   "execution_count": null,
   "id": "e7b9ff03",
   "metadata": {},
   "outputs": [],
   "source": [
    "x = np.genfromtxt(\"data_KSVM_X.csv\", delimiter=',')\n",
    "y = np.genfromtxt(\"data_KSVM_Y.csv\", delimiter=',')\n",
    "y = y[:10]\n",
    "x = x[:, :10]\n",
    "print(y)\n",
    "print(x)"
   ]
  },
  {
   "cell_type": "code",
   "execution_count": null,
   "id": "3a07d47f",
   "metadata": {},
   "outputs": [],
   "source": [
    "m = len(y)\n",
    "kappa = 4\n",
    "\n",
    "def K_fun(x, y): return np.exp(-kappa * (np.linalg.norm(x-y, ord=2))**2) # ord=2 for Euclidean norm\n",
    "\n",
    "# Create the Gram matrix with regard to the Gaussian kernel function\n",
    "K = np.zeros((m, m))\n",
    "\n",
    "for i in range(m):\n",
    "    for j in range(m):\n",
    "        K[i][j] = K_fun(x[:, i], x[:, j])\n",
    "        \n",
    "print(K)\n",
    "print(K.shape)"
   ]
  },
  {
   "cell_type": "code",
   "execution_count": null,
   "id": "d2035056",
   "metadata": {},
   "outputs": [],
   "source": [
    "# Read m number of data from y or K\n",
    "m = len(y)\n",
    "\n",
    "# Initializations\n",
    "alpha = np.zeros((m, 1))\n",
    "b = 0\n",
    "t = 0\n",
    "\n",
    "alphas = np.append(alpha, b)[:, None]\n",
    "# print(alphas)\n",
    "# print(alphas.shape)\n",
    "\n",
    "# Check whether all constraints are fulfilled\n",
    "check = y[:, None] * np.dot(K, alpha+b)\n",
    "\n",
    "while np.min(check) <= 0 and t < 2:\n",
    "    # Find all unsatisfied constraints\n",
    "    inds = [i for (i, val) in enumerate(check) if val <= 0]\n",
    "\n",
    "    # Select a constraint that is not fulfilled\n",
    "    i = random.choice(inds)\n",
    "    print(i)\n",
    "\n",
    "    # Update according to iteration rule\n",
    "    alpha[i] = alpha[i] + y[i]\n",
    "    print(alpha)\n",
    "    b = b + y[i]\n",
    "    print(b)\n",
    "    alphas = np.c_[alphas, np.append(alpha, b)[:, None]]\n",
    "    print(alphas)\n",
    "    \n",
    "    # Check the constraint \n",
    "    check = y[:, None] * np.dot(K, alpha+b)\n",
    "    print(check)\n",
    "\n",
    "    # Increase step counter\n",
    "    t += 1\n",
    "    \n",
    "# Define output values\n",
    "T = t\n",
    "isSV = np.abs(alpha) > 0"
   ]
  },
  {
   "cell_type": "code",
   "execution_count": null,
   "id": "30c7d2bf",
   "metadata": {},
   "outputs": [],
   "source": [
    "alpha_S = alpha\n",
    "b_S = b\n",
    "\n",
    "print(alpha_S)\n",
    "print(alpha_S.shape)\n",
    "\n",
    "print(T)\n",
    "\n",
    "print(b_S)"
   ]
  },
  {
   "cell_type": "code",
   "execution_count": null,
   "id": "df9d6988",
   "metadata": {},
   "outputs": [],
   "source": [
    "print(isSV)"
   ]
  },
  {
   "cell_type": "code",
   "execution_count": null,
   "id": "6f5209f2",
   "metadata": {},
   "outputs": [],
   "source": [
    "np.append(alpha, b)[:, None][:, 0]"
   ]
  },
  {
   "cell_type": "code",
   "execution_count": null,
   "id": "bb8f8fe6",
   "metadata": {},
   "outputs": [],
   "source": []
  }
 ],
 "metadata": {
  "kernelspec": {
   "display_name": "Python 3 (ipykernel)",
   "language": "python",
   "name": "python3"
  },
  "language_info": {
   "codemirror_mode": {
    "name": "ipython",
    "version": 3
   },
   "file_extension": ".py",
   "mimetype": "text/x-python",
   "name": "python",
   "nbconvert_exporter": "python",
   "pygments_lexer": "ipython3",
   "version": "3.10.8"
  }
 },
 "nbformat": 4,
 "nbformat_minor": 5
}
