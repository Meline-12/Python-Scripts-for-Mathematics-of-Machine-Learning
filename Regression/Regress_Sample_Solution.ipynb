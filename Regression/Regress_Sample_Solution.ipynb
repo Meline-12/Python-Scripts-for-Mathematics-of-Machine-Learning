{
 "cells": [
  {
   "cell_type": "markdown",
   "id": "0e3d9f93",
   "metadata": {},
   "source": [
    "# Mathematics of Machine Learning"
   ]
  },
  {
   "cell_type": "markdown",
   "id": "673e9a03",
   "metadata": {},
   "source": [
    "## Programming tasks: Linear regression"
   ]
  },
  {
   "cell_type": "markdown",
   "id": "62a254c0",
   "metadata": {},
   "source": [
    "Import required modules"
   ]
  },
  {
   "cell_type": "code",
   "execution_count": null,
   "id": "5ad406b7",
   "metadata": {},
   "outputs": [],
   "source": [
    "import numpy as np\n",
    "import matplotlib.pyplot as plt"
   ]
  },
  {
   "cell_type": "markdown",
   "id": "bd7ccbc8",
   "metadata": {},
   "source": [
    "Input data"
   ]
  },
  {
   "cell_type": "code",
   "execution_count": null,
   "id": "077c3a6b",
   "metadata": {},
   "outputs": [],
   "source": [
    "# Input data\n",
    "x = np.array([[0.01], [0.13], [0.37], [0.4], [0.85], [0.7], [0.77], [0.84], [0.87], [0.9]])          # as a column vector\n",
    "y = np.array([[0.58], [1.01], [0.15], [0.43], [0.23], [-0.23], [-0.69], [0.27], [-0.96], [-0.08]])\n",
    "\n",
    "z = np.array([[i] for i in np.arange(0, 1 + 0.01, 0.01)])\n",
    "q = np.array([[i] for i in range(0, 2)])"
   ]
  },
  {
   "cell_type": "markdown",
   "id": "8fb07f41",
   "metadata": {},
   "source": [
    "Define regression functions"
   ]
  },
  {
   "cell_type": "code",
   "execution_count": null,
   "id": "a69d3e69",
   "metadata": {},
   "outputs": [],
   "source": [
    "# Define regression functions\n",
    "def f1(x): return np.ones((len(x), 1))\n",
    "def f2(x): return x\n",
    "def f3(x): return np.array([i**2 for i in x])\n",
    "def f4(x): return np.array([i**3 for i in x])\n",
    "def f5(x): return np.array([i**4 for i in x])\n",
    "def f6(x): return np.array([i**5 for i in x])\n",
    "def f7(x): return np.array([i**6 for i in x])\n",
    "def f8(x): return np.array([i**7 for i in x])\n",
    "def f9(x): return np.array([i**8 for i in x])"
   ]
  },
  {
   "cell_type": "markdown",
   "id": "9336c477",
   "metadata": {},
   "source": [
    "Create design matrix F"
   ]
  },
  {
   "cell_type": "code",
   "execution_count": null,
   "id": "67a004e0",
   "metadata": {},
   "outputs": [],
   "source": [
    "# Create design matrix F\n",
    "F = np.concatenate([f1(x), f2(x)], axis=1)"
   ]
  },
  {
   "cell_type": "markdown",
   "id": "92b16df7",
   "metadata": {},
   "source": [
    "### Sub-task e)"
   ]
  },
  {
   "cell_type": "markdown",
   "id": "b34d04a1",
   "metadata": {},
   "source": [
    "Solve curve fitting problem"
   ]
  },
  {
   "cell_type": "code",
   "execution_count": null,
   "id": "8b4cac43",
   "metadata": {},
   "outputs": [],
   "source": [
    "# Solve curve fitting problem\n",
    "w_S = np.linalg.solve(np.matmul(F.T, F), np.matmul(F.T, y))\n",
    "print(f\"w = {w_S}\")"
   ]
  },
  {
   "cell_type": "markdown",
   "id": "f329cced",
   "metadata": {},
   "source": [
    "Calculate empirical risk of h_S"
   ]
  },
  {
   "cell_type": "code",
   "execution_count": null,
   "id": "f6612297",
   "metadata": {},
   "outputs": [],
   "source": [
    "# Calculate empirical risk of h_S\n",
    "def h_S(x): return w_S[0] + w_S[1]*x\n",
    "\n",
    "R_S = np.mean((y - h_S(x))**2)\n",
    "print(f\"R_S = {R_S}\")"
   ]
  },
  {
   "cell_type": "markdown",
   "id": "af29f1ca",
   "metadata": {},
   "source": [
    "Define true hypothesis"
   ]
  },
  {
   "cell_type": "code",
   "execution_count": null,
   "id": "81354ab6",
   "metadata": {},
   "outputs": [],
   "source": [
    "# Define true hypothesis\n",
    "def h_true(x): return 1-2*x"
   ]
  },
  {
   "cell_type": "markdown",
   "id": "6fa13fbd",
   "metadata": {},
   "source": [
    "Calculate empirical risk of the true hypothesis"
   ]
  },
  {
   "cell_type": "code",
   "execution_count": null,
   "id": "29902da0",
   "metadata": {},
   "outputs": [],
   "source": [
    "# Calculate empirical risk of the true hypothesis\n",
    "R_S_true = np.mean((y - h_true(x))**2)\n",
    "print(f\"R_S_true = {R_S_true}\")"
   ]
  },
  {
   "cell_type": "markdown",
   "id": "cb11d479",
   "metadata": {},
   "source": [
    "Graphical visualization"
   ]
  },
  {
   "cell_type": "code",
   "execution_count": null,
   "id": "b1b4bc36",
   "metadata": {},
   "outputs": [],
   "source": [
    "# Graphical visualization\n",
    "fig, ax = plt.subplots()\n",
    "ax.plot(q, h_S(q), \"b\", label=\"learned hypothesis h_S\")\n",
    "ax.plot(q, h_true(q), \"r\", label=\"true hypothesis h_true\")\n",
    "ax.scatter(x, y, label=\"Data points\")\n",
    "plt.legend()\n",
    "plt.xlabel(\"x\")\n",
    "plt.ylabel(\"y\")\n",
    "plt.show()"
   ]
  },
  {
   "cell_type": "markdown",
   "id": "b5584b12",
   "metadata": {},
   "source": [
    "### Sub-task i)"
   ]
  },
  {
   "cell_type": "markdown",
   "id": "e43519c5",
   "metadata": {},
   "source": [
    "Generate vector with 1000 uniformly distributed random numbers"
   ]
  },
  {
   "cell_type": "code",
   "execution_count": null,
   "id": "db47e4db",
   "metadata": {},
   "outputs": [],
   "source": [
    "# Generate vector with 1000 uniformly distributed random numbers\n",
    "x_new = np.random.uniform(size=(1000, 1))\n",
    "# print(f\"x_new = {x_new}\")"
   ]
  },
  {
   "cell_type": "markdown",
   "id": "de6ae15d",
   "metadata": {},
   "source": [
    "Generate vector with 1000 normally distributed random numbers"
   ]
  },
  {
   "cell_type": "code",
   "execution_count": null,
   "id": "8b305434",
   "metadata": {},
   "outputs": [],
   "source": [
    "# Generate vector with 1000 normally distributed random numbers\n",
    "y_new = h_true(x_new) + np.random.normal(size=(1000, 1))\n",
    "# print(f\"y_new = {y_new}\")"
   ]
  },
  {
   "cell_type": "markdown",
   "id": "43f87e2f",
   "metadata": {},
   "source": [
    "Create design matrix F"
   ]
  },
  {
   "cell_type": "code",
   "execution_count": null,
   "id": "086e1167",
   "metadata": {},
   "outputs": [],
   "source": [
    "# Create design matrix F\n",
    "F = np.concatenate([f1(x), f2(x), f3(x), f4(x), f5(x), f6(x), f7(x), f8(x), f9(x)], axis=1)\n",
    "print(f\"F = {F}\")"
   ]
  },
  {
   "cell_type": "markdown",
   "id": "adbb1a6f",
   "metadata": {},
   "source": [
    "Solve curve fitting problem"
   ]
  },
  {
   "cell_type": "code",
   "execution_count": null,
   "id": "d356a82d",
   "metadata": {},
   "outputs": [],
   "source": [
    "# Solve curve fitting problem\n",
    "w_S = np.linalg.solve(np.matmul(F.T, F), np.matmul(F.T, y))\n",
    "print(f\"w = {w_S}\")"
   ]
  },
  {
   "cell_type": "markdown",
   "id": "76987934",
   "metadata": {},
   "source": [
    "Calculate empirical risk of h_S_new"
   ]
  },
  {
   "cell_type": "code",
   "execution_count": null,
   "id": "c86081ba",
   "metadata": {},
   "outputs": [],
   "source": [
    "# Calculate empirical risk of h_S_new\n",
    "def h_S_new(x): return w_S[0]*f1(x) + w_S[1]*f2(x) + w_S[2]*f3(x) + w_S[3] * \\\n",
    "    f4(x) + w_S[4]*f5(x) + w_S[5]*f6(x) + w_S[6]*f7(x) + w_S[7]*f8(x) + w_S[8]*f9(x)\n",
    "\n",
    "R_S_new = np.mean((y - h_S_new(x))**2)\n",
    "print(f\"R_S_new = {R_S_new}\")"
   ]
  },
  {
   "cell_type": "markdown",
   "id": "ce2660eb",
   "metadata": {},
   "source": [
    "Graphical visualization"
   ]
  },
  {
   "cell_type": "code",
   "execution_count": null,
   "id": "1063e77e",
   "metadata": {},
   "outputs": [],
   "source": [
    "# Graphical visualization\n",
    "fig2, ax2 = plt.subplots()\n",
    "ax2.plot(z, h_S_new(z), label=\"learned hypothesis h_S_new\")\n",
    "ax2.scatter(x, y, label=\"Data points\")\n",
    "plt.grid(True)\n",
    "plt.legend()\n",
    "plt.xlabel(\"x\")\n",
    "plt.ylabel(\"y\")\n",
    "plt.show()"
   ]
  },
  {
   "cell_type": "markdown",
   "id": "83585026",
   "metadata": {},
   "source": [
    "Estimate expected risk"
   ]
  },
  {
   "cell_type": "code",
   "execution_count": null,
   "id": "25f282d0",
   "metadata": {},
   "outputs": [],
   "source": [
    "# Estimate expected risk\n",
    "R_D = np.mean((y_new - h_S(x_new))**2)\n",
    "R_D_neu = np.mean((y_new - h_S_new(x_new))**2)\n",
    "print(f\"R_D = {R_D}\")\n",
    "print(f\"R_D_neu = {R_D_neu}\")"
   ]
  },
  {
   "cell_type": "markdown",
   "id": "ba4a7db7",
   "metadata": {},
   "source": [
    "### Answer\n",
    "\n"
   ]
  },
  {
   "cell_type": "markdown",
   "id": "ba18b15a",
   "metadata": {},
   "source": [
    "Identity: $$ e^{i \\pi} + 1 = 0$$"
   ]
  },
  {
   "cell_type": "code",
   "execution_count": null,
   "id": "5c4a495d",
   "metadata": {},
   "outputs": [],
   "source": []
  }
 ],
 "metadata": {
  "kernelspec": {
   "display_name": "Python 3 (ipykernel)",
   "language": "python",
   "name": "python3"
  },
  "language_info": {
   "codemirror_mode": {
    "name": "ipython",
    "version": 3
   },
   "file_extension": ".py",
   "mimetype": "text/x-python",
   "name": "python",
   "nbconvert_exporter": "python",
   "pygments_lexer": "ipython3",
   "version": "3.10.5"
  }
 },
 "nbformat": 4,
 "nbformat_minor": 5
}
